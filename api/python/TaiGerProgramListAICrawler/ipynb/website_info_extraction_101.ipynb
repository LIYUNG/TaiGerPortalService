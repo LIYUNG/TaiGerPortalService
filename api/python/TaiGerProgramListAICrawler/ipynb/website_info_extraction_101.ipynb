{
 "cells": [
  {
   "cell_type": "markdown",
   "metadata": {},
   "source": [
    "# Website Information Extraction\n",
    "* [Web Scraping](https://python.langchain.com/docs/use_cases/web_scraping/#scraping-with-extraction)\n",
    "* [Extraction](https://python.langchain.com/docs/use_cases/extraction)\n",
    "* [KOR](https://www.youtube.com/watch?v=SW1ZdqH0rRQ&list=PL8motc6AQftk1Bs42EW45kwYbyJ4jOdiZ&index=25)"
   ]
  },
  {
   "cell_type": "markdown",
   "metadata": {},
   "source": [
    "from langchain.chat_models import ChatOpenAI\n",
    "from langchain.chains import create_extraction_chain\n"
   ]
  },
  {
   "cell_type": "code",
   "execution_count": 2,
   "metadata": {},
   "outputs": [],
   "source": [
    "import sys\n",
    "sys.path.append(\"..\") # Adds higher directory to python module path\n",
    "from dotenv import find_dotenv, load_dotenv\n",
    "\n",
    "load_dotenv(find_dotenv())"
   ]
  },
  {
   "cell_type": "code",
   "execution_count": 3,
   "metadata": {},
   "outputs": [
    {
     "name": "stdout",
     "output_type": "stream",
     "text": [
      "Intel MKL WARNING: Support of Intel(R) Streaming SIMD Extensions 4.2 (Intel(R) SSE4.2) enabled only processors has been deprecated. Intel oneAPI Math Kernel Library 2025.0 will require Intel(R) Advanced Vector Extensions (Intel(R) AVX) instructions.\n",
      "Intel MKL WARNING: Support of Intel(R) Streaming SIMD Extensions 4.2 (Intel(R) SSE4.2) enabled only processors has been deprecated. Intel oneAPI Math Kernel Library 2025.0 will require Intel(R) Advanced Vector Extensions (Intel(R) AVX) instructions.\n"
     ]
    }
   ],
   "source": [
    "from langchain.chat_models import ChatOpenAI\n",
    "from langchain.chains import create_extraction_chain"
   ]
  },
  {
   "cell_type": "code",
   "execution_count": 34,
   "metadata": {},
   "outputs": [],
   "source": [
    "# Schema\n",
    "simple_schema = {\n",
    "    \"properties\": {\n",
    "        \"university name\": {\"type\": \"string\"},\n",
    "        \"program name\": {\"type\": \"string\"},\n",
    "        \"application deadline\": {\"type\": \"string\"},\n",
    "    },\n",
    "    \"required\": [\"university name\", \"program name\", \"application deadline\"],\n",
    "}\n"
   ]
  },
  {
   "cell_type": "code",
   "execution_count": 4,
   "metadata": {},
   "outputs": [],
   "source": [
    "urls_list = [\"https://www.cit.tum.de/en/cit/studies/degree-programs/master-informatics/\"]\n",
    "\n",
    "from langchain.document_loaders import UnstructuredURLLoader\n",
    "loaders = UnstructuredURLLoader(urls=urls_list)\n",
    "data = loaders.load()"
   ]
  },
  {
   "cell_type": "code",
   "execution_count": 5,
   "metadata": {},
   "outputs": [],
   "source": [
    "from langchain.text_splitter import RecursiveCharacterTextSplitter\n",
    "splitter = RecursiveCharacterTextSplitter.from_tiktoken_encoder(chunk_size=1000, \n",
    "                                                                chunk_overlap=200)\n",
    "splits = splitter.split_documents(data)"
   ]
  },
  {
   "cell_type": "code",
   "execution_count": 6,
   "metadata": {},
   "outputs": [],
   "source": [
    "from langchain.chat_models import ChatOpenAI\n",
    "chat = ChatOpenAI(temperature=0, model=\"gpt-3.5-turbo-0613\")"
   ]
  },
  {
   "cell_type": "code",
   "execution_count": 38,
   "metadata": {},
   "outputs": [],
   "source": [
    "def extract(content: str, schema: dict):\n",
    "    return create_extraction_chain(schema=schema, llm=llm).run(content)"
   ]
  },
  {
   "cell_type": "code",
   "execution_count": 39,
   "metadata": {},
   "outputs": [
    {
     "name": "stdout",
     "output_type": "stream",
     "text": [
      "[{'application deadline': '01 February - 31 May (Winter semester), 01 '\n",
      "                          'September - 30 November (Summer semester)',\n",
      "  'program name': 'Master Informatics',\n",
      "  'university name': 'Technical University of Munich'}]\n"
     ]
    }
   ],
   "source": [
    "import pprint\n",
    "# Process the first split \n",
    "extracted_content = extract(schema=simple_schema, content=splits[0].page_content)\n",
    "pprint.pprint(extracted_content)\n"
   ]
  },
  {
   "cell_type": "markdown",
   "metadata": {},
   "source": [
    "## Pydantic data"
   ]
  },
  {
   "cell_type": "code",
   "execution_count": 7,
   "metadata": {},
   "outputs": [],
   "source": [
    "from typing import Optional, List\n",
    "from pydantic import BaseModel, Field\n",
    "from langchain.chains import create_extraction_chain_pydantic\n",
    "from langchain.output_parsers import PydanticOutputParser\n"
   ]
  },
  {
   "cell_type": "code",
   "execution_count": 32,
   "metadata": {},
   "outputs": [],
   "source": [
    "class simpleProgramInfo(BaseModel):\n",
    "    university_name: str\n",
    "    program_name: str\n",
    "    application_deadline: str\n",
    "    degree: str\n",
    "\n",
    "    \n",
    "\n"
   ]
  },
  {
   "cell_type": "code",
   "execution_count": 12,
   "metadata": {},
   "outputs": [],
   "source": [
    "chain = create_extraction_chain_pydantic(pydantic_schema=simpleProgramInfo, llm=chat)\n",
    "output = chain.run(splits[0].page_content)"
   ]
  },
  {
   "cell_type": "code",
   "execution_count": 13,
   "metadata": {},
   "outputs": [
    {
     "data": {
      "text/plain": [
       "[simpleProgramInfo(university_name='Technical University of Munich', program_name='Master Informatics', application_deadline='01 February - 31 May (Winter semester), 01 September - 30 November (Summer semester)', degree='Master of Science (M.Sc.)', country='Germany', semester='Summer or Winter semester', language='English', uni_assist=\"Preliminary documentation required for applicants with a Bachelor's degree from outside the EU/EEA\", toefl='Proof of English language proficiency', ielts='Proof of English language proficiency')]"
      ]
     },
     "execution_count": 13,
     "metadata": {},
     "output_type": "execute_result"
    }
   ],
   "source": [
    "output"
   ]
  },
  {
   "cell_type": "code",
   "execution_count": 18,
   "metadata": {},
   "outputs": [],
   "source": [
    "class ProgramInfo(BaseModel):\n",
    "    university_name: str                = Field(description='This is the name of the university')\n",
    "    program_name: str                   = Field(description='This is the name of the program')\n",
    "    degree: str                         = Field(description='This describes the type of the degree whether this is a B.A, B.S, M.A, M.Sc, or others')\n",
    "    country: Optional[str]                         = Field(description='This is the country of this university')\n",
    "    semester: str                       = Field(description='Thsi describe does this program has winster or summer semester, or both. Please output WS/SS/Both')\n",
    "    language: str                       = Field(description='This describe the official teaching language for this program')\n",
    "    application_deadline: str           = Field(description=\"This is the applicaiton deadline for applying this program\")\n",
    "    uni_assist: str                     = Field(description=\"This describe whether applying this program requires uni-assist process e.g. VPD\")\n",
    "    toefl: str                          = Field(description=\"This is the required TOEFL score for applying this program\")\n",
    "    ielts: str                          = Field(description=\"This is the required IELTS score for applying this program\")"
   ]
  },
  {
   "cell_type": "code",
   "execution_count": 19,
   "metadata": {},
   "outputs": [],
   "source": [
    "# Extraction\n",
    "chain = create_extraction_chain_pydantic(pydantic_schema=ProgramInfo, llm=chat)"
   ]
  },
  {
   "cell_type": "code",
   "execution_count": 20,
   "metadata": {},
   "outputs": [],
   "source": [
    "output = chain.run(splits[0].page_content)"
   ]
  },
  {
   "cell_type": "code",
   "execution_count": 21,
   "metadata": {},
   "outputs": [
    {
     "name": "stdout",
     "output_type": "stream",
     "text": [
      "[ProgramInfo(university_name='Technical University of Munich', program_name='Master Informatics', degree='Master of Science (M.Sc.)', country='Germany', semester='Summer or Winter semester', language='English', application_deadline='01 February - 31 May (Winter semester), 01 September - 30 November (Summer semester)', uni_assist=\"Required for applicants with a Bachelor's degree from outside the EU/EEA\", toefl='Proof of English language proficiency', ielts='Proof of English language proficiency')]\n"
     ]
    }
   ],
   "source": [
    "print(output)"
   ]
  },
  {
   "cell_type": "markdown",
   "metadata": {
    "notebookRunGroups": {
     "groupValue": "2"
    }
   },
   "source": [
    "# LLM Chain"
   ]
  },
  {
   "cell_type": "code",
   "execution_count": 22,
   "metadata": {},
   "outputs": [],
   "source": [
    "from langchain.prompts import PromptTemplate"
   ]
  },
  {
   "cell_type": "code",
   "execution_count": 23,
   "metadata": {},
   "outputs": [],
   "source": [
    "from langchain.llms import OpenAI\n",
    "llm = OpenAI(temperature=0)"
   ]
  },
  {
   "cell_type": "code",
   "execution_count": 44,
   "metadata": {},
   "outputs": [],
   "source": [
    "parser = PydanticOutputParser(pydantic_object=simpleProgramInfo)\n"
   ]
  },
  {
   "cell_type": "code",
   "execution_count": 45,
   "metadata": {},
   "outputs": [],
   "source": [
    "# Prompt\n",
    "prompt = PromptTemplate(\n",
    "    template=\"Answer the user query.\\n{format_instructions}\\n{query}\\n\",\n",
    "    input_variables=[\"query\"],\n",
    "    partial_variables={\"format_instructions\": parser.get_format_instructions()},\n",
    ")\n"
   ]
  },
  {
   "cell_type": "code",
   "execution_count": 46,
   "metadata": {},
   "outputs": [],
   "source": [
    "_input = prompt.format_prompt(query=splits[0].page_content)"
   ]
  },
  {
   "cell_type": "code",
   "execution_count": 50,
   "metadata": {},
   "outputs": [],
   "source": [
    "# Here you cannot use the \"chat model\"\n",
    "output = llm(_input.to_string())"
   ]
  },
  {
   "cell_type": "code",
   "execution_count": 48,
   "metadata": {
    "notebookRunGroups": {
     "groupValue": "2"
    }
   },
   "outputs": [
    {
     "data": {
      "text/plain": [
       "simpleProgramInfo(university_name='Technical University of Munich', program_name='Master Informatics', application_deadline='Winter semester: 01 February - 31 May; Summer semester: 01 September - 30 November', degree='Master of Science (M.Sc.)')"
      ]
     },
     "execution_count": 48,
     "metadata": {},
     "output_type": "execute_result"
    }
   ],
   "source": [
    "parser.parse(output)"
   ]
  },
  {
   "cell_type": "markdown",
   "metadata": {},
   "source": [
    "# KOR\n",
    "https://www.youtube.com/watch?v=SW1ZdqH0rRQ&list=PL8motc6AQftk1Bs42EW45kwYbyJ4jOdiZ&index=25"
   ]
  },
  {
   "cell_type": "code",
   "execution_count": null,
   "metadata": {},
   "outputs": [],
   "source": []
  },
  {
   "cell_type": "markdown",
   "metadata": {},
   "source": []
  }
 ],
 "metadata": {
  "kernelspec": {
   "display_name": "langchain",
   "language": "python",
   "name": "langchain"
  },
  "language_info": {
   "codemirror_mode": {
    "name": "ipython",
    "version": 3
   },
   "file_extension": ".py",
   "mimetype": "text/x-python",
   "name": "python",
   "nbconvert_exporter": "python",
   "pygments_lexer": "ipython3",
   "version": "3.10.12"
  },
  "orig_nbformat": 4
 },
 "nbformat": 4,
 "nbformat_minor": 2
}
