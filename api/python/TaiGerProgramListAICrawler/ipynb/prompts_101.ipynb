{
 "cells": [
  {
   "cell_type": "markdown",
   "id": "84bd94f6",
   "metadata": {},
   "source": [
    "# Prompts 101\n",
    "* https://www.youtube.com/watch?v=REdLBv91I7Q\n",
    "\n",
    "* https://www.youtube.com/watch?v=J_0qvRt4LNk&t=1s this one is also helpful"
   ]
  },
  {
   "cell_type": "markdown",
   "id": "f16a4ed0",
   "metadata": {},
   "source": [
    "# PromptTemplate -> For LLM"
   ]
  },
  {
   "cell_type": "markdown",
   "id": "fd145670",
   "metadata": {},
   "source": [
    "## Example 1"
   ]
  },
  {
   "cell_type": "code",
   "execution_count": null,
   "id": "b6f84025",
   "metadata": {},
   "outputs": [],
   "source": [
    "from langchain import PromptTemplate"
   ]
  },
  {
   "cell_type": "code",
   "execution_count": null,
   "id": "696b6fb9",
   "metadata": {},
   "outputs": [],
   "source": [
    "simiar_word_template = \"\"\"\n",
    "\n",
    "I'm going to give you a word, and you need to give me a related word.\n",
    "\n",
    "My word: {word}\n",
    "Your word: \n",
    "\"\"\""
   ]
  },
  {
   "cell_type": "code",
   "execution_count": null,
   "id": "1fe6168f",
   "metadata": {},
   "outputs": [],
   "source": [
    "prompt = PromptTemplate(\n",
    "    input_variables = [\"word\"],\n",
    "    template=simiar_word_template\n",
    "    \n",
    ")"
   ]
  },
  {
   "cell_type": "code",
   "execution_count": 5,
   "id": "630a9194",
   "metadata": {},
   "outputs": [
    {
     "name": "stdout",
     "output_type": "stream",
     "text": [
      "input_variables=['word'] output_parser=None partial_variables={} template=\"\\n\\nI'm going to give you a word, and you need to give me a related word.\\n\\nMy word: {word}\\nYour word: \\n\" template_format='f-string' validate_template=True\n"
     ]
    }
   ],
   "source": [
    "print(prompt)"
   ]
  },
  {
   "cell_type": "code",
   "execution_count": 6,
   "id": "8747817d",
   "metadata": {},
   "outputs": [],
   "source": [
    "formatted_prompt = prompt.format(word=\"tree\") #insert tree into the bucket"
   ]
  },
  {
   "cell_type": "code",
   "execution_count": 7,
   "id": "66e6b030",
   "metadata": {},
   "outputs": [
    {
     "name": "stdout",
     "output_type": "stream",
     "text": [
      "\n",
      "\n",
      "I'm going to give you a word, and you need to give me a related word.\n",
      "\n",
      "My word: tree\n",
      "Your word: \n",
      "\n"
     ]
    }
   ],
   "source": [
    "print(formatted_prompt)"
   ]
  },
  {
   "cell_type": "markdown",
   "id": "6e235da2",
   "metadata": {},
   "source": [
    "## Example 2"
   ]
  },
  {
   "cell_type": "code",
   "execution_count": null,
   "id": "c918a8eb",
   "metadata": {},
   "outputs": [],
   "source": [
    "simple_template = \"This is my template\""
   ]
  },
  {
   "cell_type": "code",
   "execution_count": null,
   "id": "e5f007f1",
   "metadata": {},
   "outputs": [],
   "source": [
    "prompt = PromptTemplate(\n",
    "    input_variables = [], \n",
    "    template = simple_template\n",
    ")"
   ]
  },
  {
   "cell_type": "code",
   "execution_count": null,
   "id": "df0e0b7d",
   "metadata": {},
   "outputs": [],
   "source": [
    "formatted_prompt = prompt.format()"
   ]
  },
  {
   "cell_type": "code",
   "execution_count": null,
   "id": "7716b7f9",
   "metadata": {},
   "outputs": [],
   "source": [
    "print(formatted_prompt)"
   ]
  },
  {
   "cell_type": "markdown",
   "id": "93f93434",
   "metadata": {},
   "source": [
    "## Example 3"
   ]
  },
  {
   "cell_type": "code",
   "execution_count": 8,
   "id": "244ca1e0",
   "metadata": {},
   "outputs": [],
   "source": [
    "complex_template = \"\"\"\n",
    " {name} is {age} years old and enjoys {hobby}.\n",
    "\"\"\""
   ]
  },
  {
   "cell_type": "code",
   "execution_count": 9,
   "id": "c3d72b92",
   "metadata": {},
   "outputs": [],
   "source": [
    "prompt = PromptTemplate(\n",
    "    input_variables = [\"name\", \"age\", \"hobby\"],\n",
    "    template = complex_template\n",
    ")"
   ]
  },
  {
   "cell_type": "code",
   "execution_count": 10,
   "id": "d1da5d8e",
   "metadata": {},
   "outputs": [],
   "source": [
    "formatted_prompt = prompt.format(name=\"Hao\", age=\"32\", hobby=\"golf\")"
   ]
  },
  {
   "cell_type": "code",
   "execution_count": 11,
   "id": "c55052ee",
   "metadata": {},
   "outputs": [
    {
     "name": "stdout",
     "output_type": "stream",
     "text": [
      "\n",
      " Hao is 32 years old and enjoys golf.\n",
      "\n"
     ]
    }
   ],
   "source": [
    "print(formatted_prompt)"
   ]
  },
  {
   "cell_type": "markdown",
   "id": "653a905f",
   "metadata": {},
   "source": [
    "## Example 4"
   ]
  },
  {
   "cell_type": "code",
   "execution_count": 12,
   "id": "5dc0fb6b",
   "metadata": {},
   "outputs": [],
   "source": [
    "location_template = \"\"\"\n",
    "\n",
    "I live in {city}, {state}.\n",
    "\n",
    "\"\"\""
   ]
  },
  {
   "cell_type": "code",
   "execution_count": 13,
   "id": "9185a3a9",
   "metadata": {},
   "outputs": [],
   "source": [
    "prompt = PromptTemplate(\n",
    "    input_variables = [\"city\", \"state\"],\n",
    "    template = location_template\n",
    ")"
   ]
  },
  {
   "cell_type": "code",
   "execution_count": 14,
   "id": "597d4123",
   "metadata": {},
   "outputs": [
    {
     "name": "stdout",
     "output_type": "stream",
     "text": [
      "['city', 'state']\n"
     ]
    }
   ],
   "source": [
    "print(prompt.input_variables)"
   ]
  },
  {
   "cell_type": "code",
   "execution_count": 15,
   "id": "76dfdfba",
   "metadata": {},
   "outputs": [],
   "source": [
    "# another way of pass the template\n",
    "prompt = PromptTemplate.from_template(location_template)"
   ]
  },
  {
   "cell_type": "code",
   "execution_count": 16,
   "id": "b5346d1c",
   "metadata": {},
   "outputs": [
    {
     "name": "stdout",
     "output_type": "stream",
     "text": [
      "['city', 'state']\n"
     ]
    }
   ],
   "source": [
    "print(prompt.input_variables)"
   ]
  },
  {
   "cell_type": "code",
   "execution_count": 17,
   "id": "72bc426b",
   "metadata": {},
   "outputs": [],
   "source": [
    "formatted_prompt = prompt.format(city=\"new york\", state=\"NY\")"
   ]
  },
  {
   "cell_type": "code",
   "execution_count": 18,
   "id": "06cd7f51",
   "metadata": {},
   "outputs": [
    {
     "name": "stdout",
     "output_type": "stream",
     "text": [
      "\n",
      "\n",
      "I live in new york, NY.\n",
      "\n",
      "\n"
     ]
    }
   ],
   "source": [
    "print(formatted_prompt)"
   ]
  },
  {
   "cell_type": "markdown",
   "id": "61c14160",
   "metadata": {},
   "source": [
    "## Few shot examples"
   ]
  },
  {
   "cell_type": "code",
   "execution_count": null,
   "id": "a6d36b57",
   "metadata": {},
   "outputs": [],
   "source": [
    "from langchain import PromptTemplate, FewShotPromptTemplate"
   ]
  },
  {
   "cell_type": "code",
   "execution_count": null,
   "id": "d9777615",
   "metadata": {},
   "outputs": [],
   "source": [
    "animal_examples = [\n",
    "    \n",
    "    {\"animal\": \"bird\", \"home\": \"nest\"},\n",
    "    {\"animal\": \"beaver\", \"home\": \"dam\"}\n",
    "]"
   ]
  },
  {
   "cell_type": "code",
   "execution_count": null,
   "id": "933fd873",
   "metadata": {},
   "outputs": [],
   "source": [
    "example_template = \"\"\"\n",
    "Animal: {animal}\n",
    "Home: {home}\n",
    "\"\"\""
   ]
  },
  {
   "cell_type": "code",
   "execution_count": null,
   "id": "d07b81e8",
   "metadata": {},
   "outputs": [],
   "source": [
    "example_prompt = PromptTemplate(\n",
    "    input_variables = [\"animal\", \"home\"],\n",
    "    template = example_template\n",
    ")"
   ]
  },
  {
   "cell_type": "code",
   "execution_count": null,
   "id": "86fc19c6",
   "metadata": {},
   "outputs": [],
   "source": [
    "few_shot_prompt = FewShotPromptTemplate(\n",
    "    examples=animal_examples,\n",
    "    example_prompt=example_prompt,\n",
    "    prefix=\"Idenfity the home for the given animal.\",\n",
    "    suffix=\"Animal:{animal}\\nHome:\",\n",
    "    input_variables=['animal'],\n",
    "    example_separator=\"\\n\"\n",
    "    \n",
    ")"
   ]
  },
  {
   "cell_type": "code",
   "execution_count": null,
   "id": "bd2eee8e",
   "metadata": {},
   "outputs": [],
   "source": [
    "formatted_prompt = few_shot_prompt.format(animal='clown fish')"
   ]
  },
  {
   "cell_type": "code",
   "execution_count": null,
   "id": "c9e333fc",
   "metadata": {},
   "outputs": [],
   "source": [
    "print(formatted_prompt)"
   ]
  },
  {
   "cell_type": "code",
   "execution_count": 19,
   "id": "a8d7545a",
   "metadata": {},
   "outputs": [],
   "source": [
    "from langchain.llms import OpenAI"
   ]
  },
  {
   "cell_type": "code",
   "execution_count": 20,
   "id": "6f04d730",
   "metadata": {},
   "outputs": [],
   "source": [
    "import sys\n",
    "sys.path.append(\"..\") # Adds higher directory to python module path\n",
    "from dotenv import find_dotenv, load_dotenv\n",
    "\n",
    "load_dotenv(find_dotenv())"
   ]
  },
  {
   "cell_type": "code",
   "execution_count": null,
   "id": "f5548dea",
   "metadata": {},
   "outputs": [],
   "source": [
    "llm = OpenAI(model_name=\"text-davinci-003\", temperature=1)"
   ]
  },
  {
   "cell_type": "code",
   "execution_count": null,
   "id": "4db36a1f",
   "metadata": {},
   "outputs": [],
   "source": [
    "result = llm(formatted_prompt)"
   ]
  },
  {
   "cell_type": "code",
   "execution_count": null,
   "id": "3d85e112",
   "metadata": {},
   "outputs": [],
   "source": [
    "print(result)"
   ]
  },
  {
   "cell_type": "markdown",
   "id": "5efe903e",
   "metadata": {},
   "source": [
    "# ChatPromptTemplate -> For ChatModels"
   ]
  },
  {
   "cell_type": "code",
   "execution_count": 21,
   "id": "ae5d681f",
   "metadata": {},
   "outputs": [],
   "source": [
    "from langchain.prompts import ChatPromptTemplate, SystemMessagePromptTemplate, HumanMessagePromptTemplate"
   ]
  },
  {
   "cell_type": "code",
   "execution_count": 22,
   "id": "bc0b5dec",
   "metadata": {},
   "outputs": [],
   "source": [
    "from langchain.chat_models import ChatOpenAI"
   ]
  },
  {
   "cell_type": "code",
   "execution_count": 23,
   "id": "4dcf85e7",
   "metadata": {},
   "outputs": [],
   "source": [
    "from langchain.callbacks.streaming_stdout import StreamingStdOutCallbackHandler"
   ]
  },
  {
   "cell_type": "code",
   "execution_count": 24,
   "id": "646eeac0",
   "metadata": {},
   "outputs": [],
   "source": [
    "sytem_template = \"\"\" Help me learn about {subject}. I will tell you what specific topic I want to learn about\n",
    "\"\"\""
   ]
  },
  {
   "cell_type": "code",
   "execution_count": 25,
   "id": "eaf44b97",
   "metadata": {},
   "outputs": [],
   "source": [
    "system_message_prompt = SystemMessagePromptTemplate.from_template(sytem_template)"
   ]
  },
  {
   "cell_type": "code",
   "execution_count": 26,
   "id": "9f24cc27",
   "metadata": {},
   "outputs": [],
   "source": [
    "human_template = \"\"\"\n",
    "I want to learn about {topic}\n",
    "\"\"\""
   ]
  },
  {
   "cell_type": "code",
   "execution_count": 27,
   "id": "96c4526c",
   "metadata": {},
   "outputs": [],
   "source": [
    "human_message_prompt = HumanMessagePromptTemplate.from_template(human_template)"
   ]
  },
  {
   "cell_type": "code",
   "execution_count": 28,
   "id": "5190ab31",
   "metadata": {},
   "outputs": [],
   "source": [
    "chat_prompt = ChatPromptTemplate.from_messages([\n",
    "    system_message_prompt,\n",
    "    human_message_prompt\n",
    "])"
   ]
  },
  {
   "cell_type": "code",
   "execution_count": 29,
   "id": "5662e952",
   "metadata": {},
   "outputs": [
    {
     "name": "stdout",
     "output_type": "stream",
     "text": [
      "input_variables=['subject', 'topic'] output_parser=None partial_variables={} messages=[SystemMessagePromptTemplate(prompt=PromptTemplate(input_variables=['subject'], output_parser=None, partial_variables={}, template=' Help me learn about {subject}. I will tell you what specific topic I want to learn about\\n', template_format='f-string', validate_template=True), additional_kwargs={}), HumanMessagePromptTemplate(prompt=PromptTemplate(input_variables=['topic'], output_parser=None, partial_variables={}, template='\\nI want to learn about {topic}\\n', template_format='f-string', validate_template=True), additional_kwargs={})]\n"
     ]
    }
   ],
   "source": [
    "print(chat_prompt)"
   ]
  },
  {
   "cell_type": "code",
   "execution_count": null,
   "id": "f66be3d3",
   "metadata": {},
   "outputs": [],
   "source": [
    "messages = chat_prompt.format_prompt(subject=\"Math\", topic =\"addition\").to_messages()"
   ]
  },
  {
   "cell_type": "code",
   "execution_count": null,
   "id": "05bb1f10",
   "metadata": {},
   "outputs": [],
   "source": [
    "print(messages)"
   ]
  },
  {
   "cell_type": "code",
   "execution_count": null,
   "id": "790343ab",
   "metadata": {},
   "outputs": [],
   "source": [
    "chat = ChatOpenAI(streaming=True, callbacks=[StreamingStdOutCallbackHandler()])"
   ]
  },
  {
   "cell_type": "code",
   "execution_count": null,
   "id": "9460af73",
   "metadata": {},
   "outputs": [],
   "source": [
    "chat(messages)"
   ]
  },
  {
   "cell_type": "markdown",
   "id": "2683aac4",
   "metadata": {},
   "source": [
    "# Selectors\n",
    "https://youtu.be/REdLBv91I7Q?si=ug6-Ey5sTPgp7TQG&t=2072"
   ]
  },
  {
   "cell_type": "code",
   "execution_count": null,
   "id": "8c717d2f",
   "metadata": {},
   "outputs": [],
   "source": [
    "from langchain.prompts import PromptTemplate, FewShotPromptTemplate"
   ]
  },
  {
   "cell_type": "code",
   "execution_count": null,
   "id": "974ea664",
   "metadata": {},
   "outputs": [],
   "source": [
    "from langchain.prompts.example_selector import LengthBasedExampleSelector"
   ]
  },
  {
   "cell_type": "code",
   "execution_count": null,
   "id": "1f7faa9f",
   "metadata": {},
   "outputs": [],
   "source": [
    "# selector checks the maximum lenght it's required and pass the examples"
   ]
  },
  {
   "cell_type": "markdown",
   "id": "8885a112",
   "metadata": {},
   "source": [
    "check the similarity selector = https://youtu.be/REdLBv91I7Q?si=wT64LSZGfuGab0bH&t=2807\n",
    "* embeddings\n",
    "* chorma\n",
    "* k= number of example\n",
    "-> similarity prompt will direclty select the most relevant one based on the sepcificed k value !!!"
   ]
  },
  {
   "cell_type": "markdown",
   "id": "ef89c893",
   "metadata": {},
   "source": [
    "check the **MaxMarginalRelevanceExampleSelector** = https://youtu.be/REdLBv91I7Q?si=qMFzF5WZkTwFGyeo&t=3144\n",
    "\n",
    "embeddings\n",
    "chorma\n",
    "k= number of example -> will punish the already embedded ones !!!"
   ]
  },
  {
   "cell_type": "markdown",
   "id": "01f5d3e6",
   "metadata": {},
   "source": [
    "# Output Parser\n",
    "https://youtu.be/REdLBv91I7Q?si=7E8SNz0EPAo_qzAp&t=3733\n",
    "\n",
    "output parser are ways to structure the outputs of the models\n",
    "1. Pydantic"
   ]
  },
  {
   "cell_type": "markdown",
   "id": "dd4441fa",
   "metadata": {},
   "source": [
    "## Pydantic -> super powerful"
   ]
  },
  {
   "cell_type": "code",
   "execution_count": null,
   "id": "b2951d42",
   "metadata": {},
   "outputs": [],
   "source": [
    "from langchain.prompts import ChatPromptTemplate, SystemMessagePromptTemplate, HumanMessagePromptTemplate"
   ]
  },
  {
   "cell_type": "code",
   "execution_count": null,
   "id": "a9282679",
   "metadata": {},
   "outputs": [],
   "source": [
    "from langchain.chat_models import ChatOpenAI\n",
    "from langchain.output_parsers import PydanticOutputParser"
   ]
  },
  {
   "cell_type": "code",
   "execution_count": null,
   "id": "39b44347",
   "metadata": {},
   "outputs": [],
   "source": [
    "from pydantic import BaseModel, Field, validator"
   ]
  },
  {
   "cell_type": "code",
   "execution_count": null,
   "id": "ec2aebdc",
   "metadata": {},
   "outputs": [],
   "source": [
    "chat = ChatOpenAI(temperature=0)"
   ]
  },
  {
   "cell_type": "code",
   "execution_count": null,
   "id": "abd9a362",
   "metadata": {},
   "outputs": [],
   "source": []
  },
  {
   "cell_type": "code",
   "execution_count": null,
   "id": "62e793c0",
   "metadata": {},
   "outputs": [],
   "source": [
    "class QA(BaseModel):\n",
    "    question: str = Field(description=\"the user's questions\")\n",
    "    answer: str = Field(description=\"the answer to the user's question\")\n",
    "        \n",
    "\n",
    "    @validator('question')\n",
    "    def question_ends_with_question_mark(field):\n",
    "        if field[-1] != '?':\n",
    "            raise ValueError(\"Question must end with a question mark\")\n",
    "\n",
    "        return field        "
   ]
  },
  {
   "cell_type": "code",
   "execution_count": null,
   "id": "5f74f301",
   "metadata": {},
   "outputs": [],
   "source": [
    "parser = PydanticOutputParser(pydantic_object=QA)"
   ]
  },
  {
   "cell_type": "code",
   "execution_count": null,
   "id": "f989a284",
   "metadata": {},
   "outputs": [],
   "source": [
    "user_query = \"what is the most popular sport in the world?\""
   ]
  },
  {
   "cell_type": "code",
   "execution_count": null,
   "id": "bfc3b9f2",
   "metadata": {},
   "outputs": [],
   "source": [
    "system_template = \"Answer the user's question, \\n{format_instructions}\\n\""
   ]
  },
  {
   "cell_type": "code",
   "execution_count": null,
   "id": "3b24630c",
   "metadata": {},
   "outputs": [],
   "source": [
    "system_message_prompt = SystemMessagePromptTemplate.from_template(system_template)"
   ]
  },
  {
   "cell_type": "code",
   "execution_count": null,
   "id": "f6487661",
   "metadata": {},
   "outputs": [],
   "source": [
    "human_template = \"{question}\""
   ]
  },
  {
   "cell_type": "code",
   "execution_count": null,
   "id": "c6ddbb77",
   "metadata": {},
   "outputs": [],
   "source": [
    "human_message_prompt = HumanMessagePromptTemplate.from_template(human_template)"
   ]
  },
  {
   "cell_type": "code",
   "execution_count": null,
   "id": "dcc3bcea",
   "metadata": {},
   "outputs": [],
   "source": [
    "chat_prompt = ChatPromptTemplate.from_messages([\n",
    "    system_message_prompt,\n",
    "    human_message_prompt\n",
    "])"
   ]
  },
  {
   "cell_type": "code",
   "execution_count": null,
   "id": "8965bf63",
   "metadata": {},
   "outputs": [],
   "source": [
    "messages = chat_prompt.format_prompt(format_instructions=parser.get_format_instructions(), question=user_query).to_messages()"
   ]
  },
  {
   "cell_type": "code",
   "execution_count": null,
   "id": "10430438",
   "metadata": {},
   "outputs": [],
   "source": [
    "print(messages[0].content)"
   ]
  },
  {
   "cell_type": "code",
   "execution_count": null,
   "id": "cec53d09",
   "metadata": {},
   "outputs": [],
   "source": [
    "result = chat(messages)\n",
    "print(result)"
   ]
  },
  {
   "cell_type": "code",
   "execution_count": null,
   "id": "39096870",
   "metadata": {},
   "outputs": [],
   "source": [
    "parsed_result = parser.parse(result.content)\n",
    "print(parsed_result)\n",
    "print(parsed_result.question)\n",
    "print(parsed_result.answer)"
   ]
  },
  {
   "cell_type": "markdown",
   "id": "e5bf6962",
   "metadata": {},
   "source": [
    "## Structured Output Parser -> less powerful"
   ]
  },
  {
   "cell_type": "code",
   "execution_count": null,
   "id": "8cab85c7",
   "metadata": {},
   "outputs": [],
   "source": [
    "from langchain.output_parsers import StructuredOutputParser, ResponseSchema"
   ]
  },
  {
   "cell_type": "code",
   "execution_count": null,
   "id": "2421840c",
   "metadata": {},
   "outputs": [],
   "source": [
    "response_schemas = [\n",
    "    ResponseSchema(name=\"question\", description=\"the user's questions\"),\n",
    "    ResponseSchema(name=\"answer\", description=\"the answer to the user's question\")\n",
    "]"
   ]
  },
  {
   "cell_type": "code",
   "execution_count": null,
   "id": "192c8ec6",
   "metadata": {},
   "outputs": [],
   "source": [
    "parser = StructuredOutputParser.from_response_schemas(response_schemas)"
   ]
  },
  {
   "cell_type": "code",
   "execution_count": null,
   "id": "4e77ae3d",
   "metadata": {},
   "outputs": [],
   "source": [
    "user_query = \"what is the most popular sport in the world?\"\n",
    "system_template = \"Answer the user's question, \\n{format_instructions}\\n\"\n",
    "system_message_prompt = SystemMessagePromptTemplate.from_template(system_template)\n",
    "human_template = \"{question}\"\n",
    "human_message_prompt = HumanMeswgasagePromptTemplate.from_template(human_template)\n",
    "\n",
    "chat_prompt = ChatPromptTemplate.from_messages([\n",
    "    system_message_prompt,\n",
    "    human_message_prompt\n",
    "])"
   ]
  },
  {
   "cell_type": "code",
   "execution_count": null,
   "id": "6df402a0",
   "metadata": {},
   "outputs": [],
   "source": [
    "messages = chat_prompt.format_prompt(format_instructions=parser.get_format_instructions(), \n",
    "                                     question=user_query).to_messages()\n",
    "result = chat(messages)\n",
    "print(result)"
   ]
  },
  {
   "cell_type": "code",
   "execution_count": null,
   "id": "0e72a17d",
   "metadata": {},
   "outputs": [],
   "source": [
    "parsed_result = parser.parse(result.content)\n",
    "print(parsed_result)\n",
    "print(parsed_result.question) # this is not there \n",
    "print(parsed_result.answer) # this is not there"
   ]
  },
  {
   "cell_type": "markdown",
   "id": "def7a024",
   "metadata": {},
   "source": [
    "## 3. Comma Seperated List Output Parser -> super simple one"
   ]
  },
  {
   "cell_type": "code",
   "execution_count": null,
   "id": "1e657808",
   "metadata": {},
   "outputs": [],
   "source": [
    "from langchain.output_parsers import CommaSeparatedListOutputParser"
   ]
  },
  {
   "cell_type": "code",
   "execution_count": null,
   "id": "44925cd8",
   "metadata": {},
   "outputs": [],
   "source": [
    "parser = CommaSeparatedListOutputParser() # easier setup"
   ]
  },
  {
   "cell_type": "code",
   "execution_count": null,
   "id": "68685476",
   "metadata": {},
   "outputs": [],
   "source": [
    "system_template = \"name 5 fruits.\\n{format_instructions}\\n\"\n",
    "system_message_prompt = SystemMessagePromptTemplate.from_template(system_template)"
   ]
  },
  {
   "cell_type": "code",
   "execution_count": null,
   "id": "12db8c7f",
   "metadata": {},
   "outputs": [],
   "source": [
    "messages = chat_prompt.format_prompt(format_instructions=parser.get_format_instructions(), \n",
    "                                     question=user_query).to_messages()\n",
    "result = chat(messages)\n",
    "print(result)"
   ]
  },
  {
   "cell_type": "code",
   "execution_count": null,
   "id": "0d638eb6",
   "metadata": {},
   "outputs": [],
   "source": [
    "parsed_result = parser.parse(result.content)\n",
    "print(parsed_result)"
   ]
  },
  {
   "cell_type": "markdown",
   "id": "ec7d4712",
   "metadata": {},
   "source": [
    "## 4. Output Fixing Parser"
   ]
  },
  {
   "cell_type": "code",
   "execution_count": null,
   "id": "cbbd2830",
   "metadata": {},
   "outputs": [],
   "source": [
    "from langchain.output_parsers import PydanticOutputParser,OutputFixingParser\n",
    "from pydantic import BaseModel, Field, validator"
   ]
  },
  {
   "cell_type": "code",
   "execution_count": null,
   "id": "6406f568",
   "metadata": {},
   "outputs": [],
   "source": [
    "class QA(BaseModel):\n",
    "    question: str = Field(description=\"the user's questions\")\n",
    "    answer: str = Field(description=\"the answer to the user's question\")\n",
    "        \n",
    "\n",
    "    @validator('question')\n",
    "    def question_ends_with_question_mark(field):\n",
    "        if field[-1] != '?':\n",
    "            raise ValueError(\"Question must end with a question mark\")\n",
    "\n",
    "        return field    "
   ]
  },
  {
   "cell_type": "code",
   "execution_count": null,
   "id": "40ff17e0",
   "metadata": {},
   "outputs": [],
   "source": [
    "parser = PydanticOutputParser(pydantic_object=QA)"
   ]
  },
  {
   "cell_type": "code",
   "execution_count": null,
   "id": "6bfe736a",
   "metadata": {},
   "outputs": [],
   "source": [
    "misformatted = \"{'question': what is the most popular sport in the word?, 'answer': 'soccr'}\"  #這邊錯誤的原因是沒有\"\", 這是非常有可能發生的，因為LLM可能會出錯"
   ]
  },
  {
   "cell_type": "code",
   "execution_count": null,
   "id": "2591070b",
   "metadata": {},
   "outputs": [],
   "source": [
    "# 傳達出正確的錯誤訊息！\n",
    "parser.parse(misformatted)"
   ]
  },
  {
   "cell_type": "code",
   "execution_count": null,
   "id": "72642d0d",
   "metadata": {},
   "outputs": [],
   "source": [
    "# 這邊就是強迫在叫llm用一次 output parser\n",
    "fixing_parser = OutputFixingParser.from_llm(llm=chat, parser=parser)"
   ]
  },
  {
   "cell_type": "code",
   "execution_count": null,
   "id": "785e21fd",
   "metadata": {},
   "outputs": [],
   "source": [
    "# 注意看，underlying全部都是prompt... Please try again. Please only respond with an answer that satisfies the constraints laid out in the Instructions:\n",
    "print(fixing_parser)\n"
   ]
  },
  {
   "cell_type": "code",
   "execution_count": null,
   "id": "ef0f191e",
   "metadata": {},
   "outputs": [],
   "source": [
    "fixed_result = fixing_parser.parse(misformatted)"
   ]
  },
  {
   "cell_type": "code",
   "execution_count": null,
   "id": "892a6eae",
   "metadata": {},
   "outputs": [],
   "source": [
    "print(fixed_result)\n",
    "print(fixed_result.question)\n",
    "print(fixed_result.answer)"
   ]
  },
  {
   "cell_type": "code",
   "execution_count": null,
   "id": "22ff59da",
   "metadata": {},
   "outputs": [],
   "source": []
  }
 ],
 "metadata": {
  "kernelspec": {
   "display_name": "langchain",
   "language": "python",
   "name": "langchain"
  },
  "language_info": {
   "codemirror_mode": {
    "name": "ipython",
    "version": 3
   },
   "file_extension": ".py",
   "mimetype": "text/x-python",
   "name": "python",
   "nbconvert_exporter": "python",
   "pygments_lexer": "ipython3",
   "version": "3.10.12"
  }
 },
 "nbformat": 4,
 "nbformat_minor": 5
}
