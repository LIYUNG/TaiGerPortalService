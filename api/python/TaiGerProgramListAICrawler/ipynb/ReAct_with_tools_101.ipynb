{
 "cells": [
  {
   "cell_type": "markdown",
   "id": "1474c905",
   "metadata": {},
   "source": [
    "# Langchain agent with tools (duckduckgo, memory)"
   ]
  },
  {
   "cell_type": "code",
   "execution_count": 1,
   "id": "65b8172a",
   "metadata": {},
   "outputs": [],
   "source": [
    "import sys\n",
    "sys.path.append(\"..\") # Adds higher directory to python module path"
   ]
  },
  {
   "cell_type": "code",
   "execution_count": 2,
   "id": "fe10040a",
   "metadata": {},
   "outputs": [],
   "source": [
    "OPENAI_API_KEY =  \"\" #my open AI key\n"
   ]
  },
  {
   "cell_type": "markdown",
   "id": "83ac3dfb",
   "metadata": {},
   "source": [
    "## DuckduckGO is so shit - do not use it"
   ]
  },
  {
   "cell_type": "code",
   "execution_count": 15,
   "id": "44191f0c",
   "metadata": {},
   "outputs": [],
   "source": [
    "# https://www.youtube.com/watch?v=biS8G8x8DdA&list=PL8motc6AQftk1Bs42EW45kwYbyJ4jOdiZ&index=20\n",
    "# https://colab.research.google.com/drive/16gWpUMOfRsvXDVPGtNwwDLV49SyxkJaD?usp=sharing\n",
    "#https://python.langchain.com/docs/integrations/tools/ddg\n",
    "from langchain.tools import DuckDuckGoSearchRun"
   ]
  },
  {
   "cell_type": "code",
   "execution_count": 23,
   "id": "96a3d099",
   "metadata": {},
   "outputs": [],
   "source": [
    "from langchain import OpenAI\n",
    "from langchain.chains.conversation.memory import ConversationBufferWindowMemory\n",
    "llm = OpenAI(temperature=0,model_name=\"text-davinci-003\", openai_api_key=OPENAI_API_KEY)\n"
   ]
  },
  {
   "cell_type": "code",
   "execution_count": 6,
   "id": "1d5f8a24",
   "metadata": {},
   "outputs": [],
   "source": [
    "from langchain.agents import Tool\n",
    "from langchain.tools import DuckDuckGoSearchRun"
   ]
  },
  {
   "cell_type": "code",
   "execution_count": 7,
   "id": "35c7477a",
   "metadata": {
    "scrolled": true
   },
   "outputs": [],
   "source": [
    "search = DuckDuckGoSearchRun()\n",
    "#search.run(\"when is the application deadline for TUM informatics winster semester?\")"
   ]
  },
  {
   "cell_type": "code",
   "execution_count": 8,
   "id": "d93acb0c",
   "metadata": {},
   "outputs": [],
   "source": [
    "# describe how your tool will be used in the chain\n",
    "duckduckgo_tool = Tool(\n",
    "    name='DuckDuckGo Search',\n",
    "    func=search.run, # this is how the function be called\n",
    "    description=\"Useful when you need to do a search on the internet to find information that another tool can't find. be specific with your input\"\n",
    ")"
   ]
  },
  {
   "cell_type": "code",
   "execution_count": 9,
   "id": "f2afeb7d",
   "metadata": {},
   "outputs": [],
   "source": [
    "# tools just a list\n",
    "tools = []\n",
    "tools.append(duckduckgo_tool)"
   ]
  },
  {
   "cell_type": "markdown",
   "id": "f8c563cb",
   "metadata": {},
   "source": [
    "## Using the agents"
   ]
  },
  {
   "cell_type": "code",
   "execution_count": 10,
   "id": "521a3dff",
   "metadata": {},
   "outputs": [],
   "source": [
    "from langchain.agents import initialize_agent"
   ]
  },
  {
   "cell_type": "code",
   "execution_count": 24,
   "id": "f11979f9",
   "metadata": {},
   "outputs": [],
   "source": [
    "zero_shot_agent = initialize_agent(\n",
    "    agent='zero-shot-react-description', # give tyep of agent - react!\n",
    "    tools=tools,\n",
    "    llm=llm,\n",
    "    verbose=True,\n",
    "    max_iterations=3 # max iteration is important to save your money...\n",
    ")"
   ]
  },
  {
   "cell_type": "code",
   "execution_count": 16,
   "id": "4ee35cd1",
   "metadata": {},
   "outputs": [
    {
     "name": "stdout",
     "output_type": "stream",
     "text": [
      "Answer the following questions as best you can. You have access to the following tools:\n",
      "\n",
      "DuckDuckGo Search: Useful when you need to do a search on the internet to find information that another tool can't find. be specific with your input\n",
      "\n",
      "Use the following format:\n",
      "\n",
      "Question: the input question you must answer\n",
      "Thought: you should always think about what to do\n",
      "Action: the action to take, should be one of [DuckDuckGo Search]\n",
      "Action Input: the input to the action\n",
      "Observation: the result of the action\n",
      "... (this Thought/Action/Action Input/Observation can repeat N times)\n",
      "Thought: I now know the final answer\n",
      "Final Answer: the final answer to the original input question\n",
      "\n",
      "Begin!\n",
      "\n",
      "Question: {input}\n",
      "Thought:{agent_scratchpad}\n"
     ]
    }
   ],
   "source": [
    "# check that... the agnet it self it just a prompt engineering result\n",
    "print(zero_shot_agent.agent.llm_chain.prompt.template)"
   ]
  },
  {
   "cell_type": "code",
   "execution_count": 13,
   "id": "7b13a52c",
   "metadata": {},
   "outputs": [],
   "source": [
    "# modify the defualt prompt\n",
    "customer_template = '''\n",
    "\n",
    "Answer the following questions as best you can. \n",
    "\n",
    "You have access to the following tools:\\n\\nDuckDuckGo Search: Useful when you need to do a search on the internet to find information that another tool can't find. be specific with your input\\n\\nUse the following format:\\n\\nQuestion: the input question you must answer\\nThought: you should always think about what to do\\nAction: the action to take, should be one of [DuckDuckGo Search]\\nAction Input: the input to the action\\nObservation: the result of the action\\n... (this Thought/Action/Action Input/Observation can repeat N times)\\nThought: I now know the final answer\\nFinal Answer: the final answer to the original input question\\n\\nBegin!\\n\\nQuestion: {input}\\nThought:{agent_scratchpad}\n",
    "\n",
    "'''"
   ]
  },
  {
   "cell_type": "code",
   "execution_count": 17,
   "id": "deb5139b",
   "metadata": {},
   "outputs": [
    {
     "data": {
      "text/plain": [
       "\"Answer the following questions as best you can. You have access to the following tools:\\n\\nDuckDuckGo Search: Useful when you need to do a search on the internet to find information that another tool can't find. be specific with your input\\n\\nUse the following format:\\n\\nQuestion: the input question you must answer\\nThought: you should always think about what to do\\nAction: the action to take, should be one of [DuckDuckGo Search]\\nAction Input: the input to the action\\nObservation: the result of the action\\n... (this Thought/Action/Action Input/Observation can repeat N times)\\nThought: I now know the final answer\\nFinal Answer: the final answer to the original input question\\n\\nBegin!\\n\\nQuestion: {input}\\nThought:{agent_scratchpad}\""
      ]
     },
     "execution_count": 17,
     "metadata": {},
     "output_type": "execute_result"
    }
   ],
   "source": [
    "zero_shot_agent.agent.llm_chain.prompt.template"
   ]
  },
  {
   "cell_type": "markdown",
   "id": "c9568994",
   "metadata": {},
   "source": [
    "## Access the tools"
   ]
  },
  {
   "cell_type": "code",
   "execution_count": 19,
   "id": "32ae78ec",
   "metadata": {},
   "outputs": [],
   "source": [
    "general_program_info_template = \"\"\"\n",
    "Introduction about {program_name} at {university_name}\n",
    "\"\"\""
   ]
  },
  {
   "cell_type": "code",
   "execution_count": 20,
   "id": "12709517",
   "metadata": {},
   "outputs": [],
   "source": [
    "formatted_general_program_intro = general_program_info_template.format(program_name=\"Informatics\", university_name=\"TUM\")"
   ]
  },
  {
   "cell_type": "code",
   "execution_count": 21,
   "id": "be0f89c4",
   "metadata": {},
   "outputs": [
    {
     "data": {
      "text/plain": [
       "'\\nIntroduction about Informatics at TUM\\n'"
      ]
     },
     "execution_count": 21,
     "metadata": {},
     "output_type": "execute_result"
    }
   ],
   "source": [
    "formatted_general_program_intro"
   ]
  },
  {
   "cell_type": "code",
   "execution_count": 25,
   "id": "0320e8c6",
   "metadata": {},
   "outputs": [
    {
     "name": "stdout",
     "output_type": "stream",
     "text": [
      "\n",
      "\n",
      "\u001b[1m> Entering new AgentExecutor chain...\u001b[0m\n",
      "\u001b[32;1m\u001b[1;3m Researching the topic\n",
      "Action: DuckDuckGo Search\n",
      "Action Input: \"Informatics TUM\"\u001b[0m\n",
      "Observation: \u001b[36;1m\u001b[1;3mInformatics is a modern discipline and the engine of innovation for technical progress in all fields of economic and social life. Specialists in informatics shape the future! ... In this procedure, the TUM school or department determines whether you meet the specific requirements for its master's degree program. In the initial stages, the ... Integrated research and degree programs designed for the future: The TUM School of Computation, Information and Technology (CIT) at the Technical University of Munich (TUM) unites the disciplines of Mathematics, Informatics, and Electrical and Computer Engineering. TUM School of Computation, Information and Technology - TUM School of Computation, Information and Technology Wir sind die TUM School of Computation, Information and Technology der Technischen Universität München! Alles über unsere Lehre und Forschung. Integrated research and degree programmes designed for the future: The TUM School of Computation, Information and Technology (CIT) at the Technical University of Munich (TUM) unites the disciplines of Mathematics, Informatics, and Electrical and Computer Engineering. Our research and teaching activities range from theoretical knowledge to its ... The TUM School of Computation, Information and Technology offers the degree programs of the former Departments of Mathematics , Informatics and Electrical and Computer Engineering.\u001b[0m\n",
      "Thought:\u001b[32;1m\u001b[1;3m I now know the final answer\n",
      "Final Answer: The TUM School of Computation, Information and Technology (CIT) at the Technical University of Munich (TUM) unites the disciplines of Mathematics, Informatics, and Electrical and Computer Engineering. It offers integrated research and degree programs designed for the future.\u001b[0m\n",
      "\n",
      "\u001b[1m> Finished chain.\u001b[0m\n"
     ]
    },
    {
     "data": {
      "text/plain": [
       "'The TUM School of Computation, Information and Technology (CIT) at the Technical University of Munich (TUM) unites the disciplines of Mathematics, Informatics, and Electrical and Computer Engineering. It offers integrated research and degree programs designed for the future.'"
      ]
     },
     "execution_count": 25,
     "metadata": {},
     "output_type": "execute_result"
    }
   ],
   "source": [
    "zero_shot_agent.run(formatted_general_program_intro)"
   ]
  },
  {
   "cell_type": "code",
   "execution_count": 26,
   "id": "8db9dbe1",
   "metadata": {},
   "outputs": [
    {
     "name": "stdout",
     "output_type": "stream",
     "text": [
      "\n",
      "\n",
      "\u001b[1m> Entering new AgentExecutor chain...\u001b[0m\n",
      "\u001b[32;1m\u001b[1;3m I need to find out when the application deadline is\n",
      "Action: DuckDuckGo Search\n",
      "Action Input: \"TUM informatics application deadline winter semester\"\u001b[0m\n",
      "Observation: \u001b[36;1m\u001b[1;3mDownload. ICS, 1 MB. Semester Structure. Summer semester 2023: 01.04.2023 - 30.09.2023. Winter semester 2023/24: 01.10.2023 - 31.03.2024. Summer semester 2024: 01.04.2024 - 30.09.2024. Winter semester 2024/25: 01.10.2024 - 31.03.2025. Periods and Deadlines. Application for Bachelor's. Application for Master's. You must hand in your plan at the latest by the end of November in the wintersemester and by the end of May in the summersemester. Depending on your major, you can select your subjects in advance before the program starts by using our study structure chart. Welcome to TUM Informatics (Computer Science)! As a student at one of TUM CIT Informatics's international partner universities, you can spend a semester or academic year on exchange in the area of Computer Science and Informatics with us here in Munich. Wintersemester 2023/24: 01.10.2023 - 31.03.2024. Sommersemester 2024: 01.04.2024 - 30.09.2024. Wintersemester 2024/25: 01.10.2024 - 31.03.2025. Fristen und Deadlines. Bewerbung Bachelor. Bewerbung Master. Bewerbung Studienkolleg. Bewerbung Gaststudium. Bewerbung Austauschstudium (Incoming z.B. Erasmus oder TUMExchange) Beurlaubung. Welcome Winter - TUM. Program 2023/24. You come from abroad and start your studies at TUM in the winter semester? In September, you have the opportunity to participate in various events especially designed for international first-year students. First Steps Info Sessions - WiSe 23/24.\u001b[0m\n",
      "Thought:\u001b[32;1m\u001b[1;3m I now know the final answer\n",
      "Final Answer: The application deadline for the TUM informatics on winter semester is the end of November.\u001b[0m\n",
      "\n",
      "\u001b[1m> Finished chain.\u001b[0m\n"
     ]
    },
    {
     "data": {
      "text/plain": [
       "'The application deadline for the TUM informatics on winter semester is the end of November.'"
      ]
     },
     "execution_count": 26,
     "metadata": {},
     "output_type": "execute_result"
    }
   ],
   "source": [
    "# Obervation: the agent re-format my query into duckduckgo, here i might need the prompt guidance!\n",
    "zero_shot_agent.run(\"When is the application deadline for the TUM informatics on winter semester\")"
   ]
  },
  {
   "cell_type": "code",
   "execution_count": 29,
   "id": "42644a4c",
   "metadata": {},
   "outputs": [
    {
     "name": "stdout",
     "output_type": "stream",
     "text": [
      "\n",
      "\n",
      "\u001b[1m> Entering new AgentExecutor chain...\u001b[0m\n",
      "\u001b[32;1m\u001b[1;3m I need to find out what documents are required\n",
      "Action: DuckDuckGo Search\n",
      "Action Input: \"required documents for master degree in Informatics at Technical university of Munich\"\u001b[0m\n",
      "Observation: \u001b[36;1m\u001b[1;3mCity. Technical University of Munich. Informatics. M.Sc. (Master of Science) Subjects: Computer Science, Informatics. M.Sc. Degree. 120. ECTS. English & German. Language. Winter semester: 31 May. Summer semester: 30 Nov. Application Deadlines. 2 Years (starting: Both semesters) Duration. Free. Tuition Fees (per semester) Starting. Both semesters. Here you will find all the legal foundations for your studies at TUM: from the General Academic and Examination Regulations via the Program-Specific Academic and Examination Regulations to the Regulations on the Awarding of Doctoral Degrees - official versions as well as engrossed versions. Explanations of the Legal Framework. In the future, master's students from both universities will be able to obtain a master's degree in Data Science at the University of Queensland in addition to their degree in Informatics at TUM. Integrated research and degree programs designed for the future: The TUM School of Computation, Information and Technology (CIT) at the Technical University of Munich (TUM) unites the disciplines of Mathematics, Informatics, and Electrical and Computer Engineering. Application Requirements. Cost. Deadline. Ranking. Scholarships. Study in Germany with Technical University of Munich. Bachelors. Masters. Average Scores Requirement. Academic Scores. Entrance Scores. 1) Online Application. - Application fee: 75.00 EUR. 2) Passport Copy. 3) Official High School Transcript.\u001b[0m\n",
      "Thought:\u001b[32;1m\u001b[1;3m I now know the required documents\n",
      "Final Answer: The required documents for applying for a master degree in Informatics at Technical University of Munich are: 1) Online Application, 2) Passport Copy, 3) Official High School Transcript, 4) Application fee of 75.00 EUR.\u001b[0m\n",
      "\n",
      "\u001b[1m> Finished chain.\u001b[0m\n"
     ]
    },
    {
     "data": {
      "text/plain": [
       "'The required documents for applying for a master degree in Informatics at Technical University of Munich are: 1) Online Application, 2) Passport Copy, 3) Official High School Transcript, 4) Application fee of 75.00 EUR.'"
      ]
     },
     "execution_count": 29,
     "metadata": {},
     "output_type": "execute_result"
    }
   ],
   "source": [
    "zero_shot_agent.run(\"please list out all the required documents e.g. CV, motivation letter, essay, etc for apply master degree in Informatics at Technical university of Munich \")"
   ]
  },
  {
   "cell_type": "markdown",
   "id": "1947cc49",
   "metadata": {},
   "source": [
    "## React agent with search and vecotr stores as tools!\n",
    "* https://python.langchain.com/docs/modules/memory/agent_with_memory (here the memory means the chat memory)\n",
    "* https://python.langchain.com/docs/modules/agents/how_to/agent_vectorstore"
   ]
  },
  {
   "cell_type": "code",
   "execution_count": 3,
   "id": "cacdf652",
   "metadata": {},
   "outputs": [
    {
     "name": "stdout",
     "output_type": "stream",
     "text": [
      "Intel MKL WARNING: Support of Intel(R) Streaming SIMD Extensions 4.2 (Intel(R) SSE4.2) enabled only processors has been deprecated. Intel oneAPI Math Kernel Library 2025.0 will require Intel(R) Advanced Vector Extensions (Intel(R) AVX) instructions.\n",
      "Intel MKL WARNING: Support of Intel(R) Streaming SIMD Extensions 4.2 (Intel(R) SSE4.2) enabled only processors has been deprecated. Intel oneAPI Math Kernel Library 2025.0 will require Intel(R) Advanced Vector Extensions (Intel(R) AVX) instructions.\n"
     ]
    }
   ],
   "source": [
    "from langchain.agents import ZeroShotAgent, Tool, AgentExecutor\n",
    "from langchain.memory import ConversationBufferMemory\n",
    "from langchain.llms import OpenAI\n",
    "from langchain.chains import LLMChain\n",
    "#from langchain.utilities import GoogleSearchAPIWrapper this is in general too expensive\n",
    "from langchain.tools import DuckDuckGoSearchRun"
   ]
  },
  {
   "cell_type": "code",
   "execution_count": 6,
   "id": "44c54675",
   "metadata": {},
   "outputs": [],
   "source": [
    "from langchain.vectorstores import Chroma\n",
    "from langchain.embeddings import OpenAIEmbeddings\n",
    "embeddings = OpenAIEmbeddings(openai_api_key = OPENAI_API_KEY) # text-embedding-ada-002\n",
    "\n",
    "persist_directory = 'vectorDatabase'\n",
    "\n",
    "## Here is the new embedding being used\n",
    "embedding = embeddings\n",
    "\n",
    "# Now we can load the persisted database from disk, and use it as normal. \n",
    "vectordb = Chroma(persist_directory=persist_directory, \n",
    "                  embedding_function=embedding)\n",
    "\n",
    "retriever = vectordb.as_retriever(search_type='similarity', search_kwargs={\"k\":3}) # force only return 3 results"
   ]
  },
  {
   "cell_type": "code",
   "execution_count": 7,
   "id": "f7c4cd0f",
   "metadata": {},
   "outputs": [],
   "source": [
    "from langchain.chains import RetrievalQA \n",
    "\n",
    "# llm\n",
    "llm = OpenAI(temperature=0,model_name=\"text-davinci-003\", openai_api_key=OPENAI_API_KEY)\n",
    "\n",
    "\n",
    "# create a retrieval chain\n",
    "program_info_chain = RetrievalQA.from_chain_type(\n",
    "                                            llm=llm, \n",
    "                                            chain_type=\"stuff\", \n",
    "                                            retriever=retriever,\n",
    "                                            return_source_documents=False)"
   ]
  },
  {
   "cell_type": "code",
   "execution_count": 12,
   "id": "4b96dd82",
   "metadata": {},
   "outputs": [],
   "source": [
    "# Tool chain \n",
    "\n",
    "search = DuckDuckGoSearchRun()\n",
    "tools =[\n",
    "    Tool(\n",
    "        name=\"Search\",\n",
    "        func=search.run,\n",
    "        description=\"useful for when you need to asnwer questions about current events\"\n",
    "    ),\n",
    "    Tool(\n",
    "        name=\"Program information QA system\",\n",
    "        func=program_info_chain.run, \n",
    "        description=\"userful for when you need any information about the program infroamtion\"\n",
    "    )\n",
    "]"
   ]
  },
  {
   "cell_type": "code",
   "execution_count": 13,
   "id": "560a5748",
   "metadata": {},
   "outputs": [],
   "source": [
    "# create the agent\n",
    "from langchain.agents import initialize_agent\n",
    "\n",
    "zero_shot_agent = initialize_agent(\n",
    "    agent='zero-shot-react-description', # give tyep of agent - react!\n",
    "    tools=tools,\n",
    "    llm=llm,\n",
    "    verbose=True,\n",
    "    max_iterations=3 # max iteration is important to save your money...\n",
    ")"
   ]
  },
  {
   "cell_type": "code",
   "execution_count": 14,
   "id": "128f40cc",
   "metadata": {},
   "outputs": [
    {
     "name": "stdout",
     "output_type": "stream",
     "text": [
      "\n",
      "\n",
      "\u001b[1m> Entering new AgentExecutor chain...\u001b[0m\n",
      "\u001b[32;1m\u001b[1;3m I need to find out what documents are required for the application process.\n",
      "Action: Program information QA system\n",
      "Action Input: What documents are required for the TUM informatics application?\u001b[0m\n",
      "Observation: \u001b[33;1m\u001b[1;3m You will need to submit personal data and information about your education, as well as any required documents. Prospective students with a Bachelor's degree from outside the European Union will also need to request a preliminary examination documentation from uni-assist (VPD). If you are admitted, you will need to submit additional documents as certified copies for the enrollment.\u001b[0m\n",
      "Thought:\u001b[32;1m\u001b[1;3m I now know the final answer\n",
      "Final Answer: The required documents for the TUM informatics application are personal data and information about your education, as well as any required documents. Prospective students with a Bachelor's degree from outside the European Union will also need to request a preliminary examination documentation from uni-assist (VPD). If you are admitted, you will need to submit additional documents as certified copies for the enrollment.\u001b[0m\n",
      "\n",
      "\u001b[1m> Finished chain.\u001b[0m\n"
     ]
    },
    {
     "data": {
      "text/plain": [
       "\"The required documents for the TUM informatics application are personal data and information about your education, as well as any required documents. Prospective students with a Bachelor's degree from outside the European Union will also need to request a preliminary examination documentation from uni-assist (VPD). If you are admitted, you will need to submit additional documents as certified copies for the enrollment.\""
      ]
     },
     "execution_count": 14,
     "metadata": {},
     "output_type": "execute_result"
    }
   ],
   "source": [
    "zero_shot_agent.run(\"What are the required documents for apply TUM informatics e.g. CV, motivaition letter, Essay?\")"
   ]
  },
  {
   "cell_type": "markdown",
   "id": "5d889874",
   "metadata": {},
   "source": [
    "# Custom functions with OpenAI functions Agents\n",
    "* [Youtube](https://www.youtube.com/watch?v=4KXK6c6TVXQ&list=PL8motc6AQftk1Bs42EW45kwYbyJ4jOdiZ&index=30)\n",
    "    * [colab](https://colab.research.google.com/drive/1o5N38guLVSLHWQvLGUTW8uxjvLeAOhx9?usp=sharing)\n",
    "* [LangChain doc](https://python.langchain.com/docs/modules/agents/how_to/custom-functions-with-openai-functions-agent)"
   ]
  },
  {
   "cell_type": "code",
   "execution_count": null,
   "id": "120c7719",
   "metadata": {},
   "outputs": [],
   "source": []
  }
 ],
 "metadata": {
  "kernelspec": {
   "display_name": "langchain",
   "language": "python",
   "name": "langchain"
  },
  "language_info": {
   "codemirror_mode": {
    "name": "ipython",
    "version": 3
   },
   "file_extension": ".py",
   "mimetype": "text/x-python",
   "name": "python",
   "nbconvert_exporter": "python",
   "pygments_lexer": "ipython3",
   "version": "3.10.12"
  }
 },
 "nbformat": 4,
 "nbformat_minor": 5
}
