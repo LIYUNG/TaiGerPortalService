{
 "cells": [
  {
   "cell_type": "code",
   "execution_count": 1,
   "metadata": {},
   "outputs": [],
   "source": [
    "import sys\n",
    "sys.path.append(\"..\") # Adds higher directory to python module path\n",
    "from dotenv import find_dotenv, load_dotenv\n",
    "\n",
    "load_dotenv(find_dotenv())"
   ]
  },
  {
   "cell_type": "code",
   "execution_count": 2,
   "metadata": {},
   "outputs": [],
   "source": []
  },
  {
   "cell_type": "code",
   "execution_count": 3,
   "metadata": {},
   "outputs": [],
   "source": [
    "# Only 3 input variables\n",
    "university_name = \"Mannheim\"\n",
    "program_name = \"master in management\"\n",
    "degree = \"master degree\""
   ]
  },
  {
   "cell_type": "code",
   "execution_count": 4,
   "metadata": {},
   "outputs": [],
   "source": [
    "from search.program_url_searcher import get_program_links"
   ]
  },
  {
   "cell_type": "code",
   "execution_count": 5,
   "metadata": {},
   "outputs": [
    {
     "name": "stdout",
     "output_type": "stream",
     "text": [
      "search: Mannheim master in management master degree introduction\n",
      "\n",
      "links: ['https://www.uni-mannheim.de/studium/studienangebot/mannheim-master-in-management/', 'https://www.bwl.uni-mannheim.de/media/Fakultaeten/bwl/Dokumente/Studium/MMM/Modulkatalog_Mannheim_Master_in_Management_de.pdf']\n",
      "\n",
      "search: Mannheim master in management master degree's application deadline\n",
      "\n",
      "links: [\"https://www.uni-mannheim.de/en/academics/dates/application-deadlines/#:~:text=Master's%20Programs&text=The%20application%20deadline%20for%20the,deadlines%20are%20subject%20to%20approval).\", 'https://www.mim-essay.com/mannheim-mim']\n",
      "\n",
      "search: Mannheim master in management master degree, which documents do i need to submit during the online application\n",
      "\n",
      "links: ['https://www.uni-mannheim.de/en/academics/applying/the-a-to-z-of-applying/necessary-documents-for-the-application/', 'https://www.uni-mannheim.de/en/academics/programs/mannheim-master-in-management/']\n",
      "\n",
      "search: Mannheim master in management master degree, where can i find the online application portal\n",
      "\n",
      "links: ['https://www.uni-mannheim.de/en/academics/applying/the-a-to-z-of-applying/application-process/', 'https://www.bwl.uni-mannheim.de/en/programs/master/mmm/']\n",
      "\n",
      "Total 8 links\n"
     ]
    }
   ],
   "source": [
    "url_links = get_program_links(university_name, program_name, degree, number=2)"
   ]
  },
  {
   "cell_type": "code",
   "execution_count": 6,
   "metadata": {},
   "outputs": [
    {
     "name": "stdout",
     "output_type": "stream",
     "text": [
      "Intel MKL WARNING: Support of Intel(R) Streaming SIMD Extensions 4.2 (Intel(R) SSE4.2) enabled only processors has been deprecated. Intel oneAPI Math Kernel Library 2025.0 will require Intel(R) Advanced Vector Extensions (Intel(R) AVX) instructions.\n",
      "Intel MKL WARNING: Support of Intel(R) Streaming SIMD Extensions 4.2 (Intel(R) SSE4.2) enabled only processors has been deprecated. Intel oneAPI Math Kernel Library 2025.0 will require Intel(R) Advanced Vector Extensions (Intel(R) AVX) instructions.\n"
     ]
    },
    {
     "name": "stderr",
     "output_type": "stream",
     "text": [
      "Error fetching or processing https://www.bwl.uni-mannheim.de/media/Fakultaeten/bwl/Dokumente/Studium/MMM/Modulkatalog_Mannheim_Master_in_Management_de.pdf, exception: name 'partition_pdf' is not defined\n"
     ]
    }
   ],
   "source": [
    "from langchain.document_loaders import UnstructuredURLLoader\n",
    "loaders = UnstructuredURLLoader(urls=url_links)\n",
    "data = loaders.load()"
   ]
  },
  {
   "cell_type": "code",
   "execution_count": 7,
   "metadata": {},
   "outputs": [],
   "source": [
    "from langchain.vectorstores import Chroma\n",
    "from langchain.embeddings import OpenAIEmbeddings\n"
   ]
  },
  {
   "cell_type": "code",
   "execution_count": 8,
   "metadata": {},
   "outputs": [],
   "source": [
    "embedding_model = \"text-embedding-ada-002\"\n",
    "embeddings = OpenAIEmbeddings(model=embedding_model)"
   ]
  },
  {
   "cell_type": "code",
   "execution_count": 9,
   "metadata": {},
   "outputs": [],
   "source": [
    "# how to know the cost: https://github.com/langchain-ai/langchain/issues/945\n",
    "# https://github.com/sbslee/kanu/blob/06deef8ae91ba2b949c5e504a220f3fcdace9cf9/kanu/utils.py#L15\n",
    "# https://openai.com/pricing#language-models\n",
    "def tokens2price(model, task, tokens):\n",
    "    models = {\n",
    "        \"gpt-3.5-turbo\"          : {\"prompt\": 0.0015, \"completion\": 0.002},\n",
    "        \"gpt-3.5-turbo-16k\"      : {\"prompt\": 0.003,  \"completion\": 0.004},\n",
    "        \"gpt-4\"                  : {\"prompt\": 0.03,   \"completion\": 0.06},\n",
    "        \"gpt-4-32k\"              : {\"prompt\": 0.06,   \"completion\": 0.12},\n",
    "        \"text-embedding-ada-002\" : {\"embedding\": 0.0001},\n",
    "    }\n",
    "    return models[model][task] / 1000 * tokens\n",
    "\n",
    "def text2tokens(model, text):\n",
    "    import tiktoken\n",
    "    encoding = tiktoken.encoding_for_model(model)\n",
    "    return len(encoding.encode(text))"
   ]
  },
  {
   "cell_type": "code",
   "execution_count": 10,
   "metadata": {},
   "outputs": [],
   "source": [
    "from langchain.text_splitter import RecursiveCharacterTextSplitter\n",
    "\n",
    "# divide first 1000 words as one chunk, overlap is 200 words. if your setence has dependency on previous sentence, better have a overlap\n",
    "# if you have temperal dependency -> use overlap\n",
    "# remember that overlap will be more expensive for embedding as well\n",
    "text_splitter = RecursiveCharacterTextSplitter( \n",
    "                                      chunk_size=1000, \n",
    "                                      chunk_overlap=200)\n",
    "\n",
    "docs = text_splitter.split_documents(data)\n",
    "\n",
    "tokens = 0\n",
    "\n",
    "for doc in docs:\n",
    "        tokens += text2tokens(embedding_model, doc.page_content)\n",
    "embedding_cost = tokens2price(embedding_model, \"embedding\", tokens)"
   ]
  },
  {
   "cell_type": "code",
   "execution_count": 11,
   "metadata": {},
   "outputs": [
    {
     "data": {
      "text/plain": [
       "124"
      ]
     },
     "execution_count": 11,
     "metadata": {},
     "output_type": "execute_result"
    }
   ],
   "source": [
    "len(docs)"
   ]
  },
  {
   "cell_type": "code",
   "execution_count": 12,
   "metadata": {},
   "outputs": [],
   "source": [
    "# Create a temp DB\n",
    "# Embed and store the texts\n",
    "# Supplying a persist_directory will store the embedding on disk\n",
    "persist_directory = 'tempDB'\n",
    "\n",
    "vectordb = Chroma.from_documents(documents = docs,\n",
    "                                 embedding=embeddings,\n",
    "                                 persist_directory=persist_directory)\n"
   ]
  },
  {
   "cell_type": "code",
   "execution_count": 13,
   "metadata": {},
   "outputs": [
    {
     "name": "stdout",
     "output_type": "stream",
     "text": [
      "Total Cost (USD): $0.0020278\n"
     ]
    }
   ],
   "source": [
    "print(f\"Total Embedding Cost (USD): ${embedding_cost}\")"
   ]
  },
  {
   "cell_type": "markdown",
   "metadata": {},
   "source": []
  }
 ],
 "metadata": {
  "kernelspec": {
   "display_name": "langchain",
   "language": "python",
   "name": "langchain"
  },
  "language_info": {
   "codemirror_mode": {
    "name": "ipython",
    "version": 3
   },
   "file_extension": ".py",
   "mimetype": "text/x-python",
   "name": "python",
   "nbconvert_exporter": "python",
   "pygments_lexer": "ipython3",
   "version": "3.10.12"
  },
  "orig_nbformat": 4
 },
 "nbformat": 4,
 "nbformat_minor": 2
}
