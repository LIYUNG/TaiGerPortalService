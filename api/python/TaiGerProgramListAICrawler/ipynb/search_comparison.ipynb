{
 "cells": [
  {
   "cell_type": "markdown",
   "metadata": {},
   "source": [
    "# Search Comparison\n",
    "This notebook aims to compare the search result for the following tools\n",
    "1. Duckduckgo search\n",
    "2. Serp search (Google)\n",
    "\n",
    "\n",
    "The goal is to get \"a Set of urls\" regarding each program\n",
    "* The good things of using a set container to keep the Urls, which means we can search many times "
   ]
  },
  {
   "cell_type": "code",
   "execution_count": 1,
   "metadata": {},
   "outputs": [
    {
     "name": "stdout",
     "output_type": "stream",
     "text": [
      "Intel MKL WARNING: Support of Intel(R) Streaming SIMD Extensions 4.2 (Intel(R) SSE4.2) enabled only processors has been deprecated. Intel oneAPI Math Kernel Library 2025.0 will require Intel(R) Advanced Vector Extensions (Intel(R) AVX) instructions.\n",
      "Intel MKL WARNING: Support of Intel(R) Streaming SIMD Extensions 4.2 (Intel(R) SSE4.2) enabled only processors has been deprecated. Intel oneAPI Math Kernel Library 2025.0 will require Intel(R) Advanced Vector Extensions (Intel(R) AVX) instructions.\n"
     ]
    }
   ],
   "source": [
    "# https://www.youtube.com/watch?v=biS8G8x8DdA&list=PL8motc6AQftk1Bs42EW45kwYbyJ4jOdiZ&index=20\n",
    "# https://colab.research.google.com/drive/16gWpUMOfRsvXDVPGtNwwDLV49SyxkJaD?usp=sharing\n",
    "#https://python.langchain.com/docs/integrations/tools/ddg\n",
    "from langchain.tools import DuckDuckGoSearchRun\n",
    "from langchain import SerpAPIWrapper\n",
    "from langchain import PromptTemplate"
   ]
  },
  {
   "cell_type": "markdown",
   "metadata": {},
   "source": [
    "## Initialize the candidates"
   ]
  },
  {
   "cell_type": "code",
   "execution_count": 8,
   "metadata": {},
   "outputs": [],
   "source": [
    "duckduckgo_search = DuckDuckGoSearchRun()\n",
    "#search.run(\"when is the application deadline for TUM informatics winster semester?\")"
   ]
  },
  {
   "cell_type": "code",
   "execution_count": 6,
   "metadata": {},
   "outputs": [],
   "source": [
    "# Serp need to pay\n",
    "serp_api_key = \"e79e82684afe55a4bfc748ac117394cd973abddac8630dce02b765ecb2cac7c5\"\n",
    "serp_search = SerpAPIWrapper(serpapi_api_key=serp_api_key)"
   ]
  },
  {
   "cell_type": "markdown",
   "metadata": {},
   "source": [
    "## Set up the search template\n",
    "{University name} {Program Name} {Degree} .....\n",
    "\n",
    "\n",
    "1. General program introduction: Introduction about this program\n",
    "\n",
    "2. Application information for deadline: When is the application deadline\n",
    "\n",
    "3. Application document requirement: Which documents do I need to submit during the online application?\n",
    "\n",
    "4. Application portal information: Where can I finde the online applicaiton portal"
   ]
  },
  {
   "cell_type": "code",
   "execution_count": 22,
   "metadata": {},
   "outputs": [],
   "source": [
    "general_program_info_search_template = \"\"\"\n",
    "{university_name} {program_name} {degree} introduction\n",
    "\"\"\""
   ]
  },
  {
   "cell_type": "code",
   "execution_count": 23,
   "metadata": {},
   "outputs": [],
   "source": [
    "application_deadline_search_template = \"\"\"\n",
    "{university_name} {program_name} {degree}'s application deadline\n",
    "\"\"\""
   ]
  },
  {
   "cell_type": "code",
   "execution_count": 24,
   "metadata": {},
   "outputs": [],
   "source": [
    "requried_document_search_template = \"\"\"\n",
    "{university_name} {program_name} {degree}, which documents do i need to submit during the online application\n",
    "\"\"\""
   ]
  },
  {
   "cell_type": "code",
   "execution_count": 25,
   "metadata": {},
   "outputs": [],
   "source": [
    "application_portal_search_template = \"\"\"\n",
    "{university_name} {program_name} {degree}, where can i find the online applicaiton portal\n",
    "\"\"\""
   ]
  },
  {
   "cell_type": "code",
   "execution_count": 2,
   "metadata": {},
   "outputs": [],
   "source": [
    "# set up dummy variables\n",
    "university_name = \"TUM\"\n",
    "program_name = \"informatics\"\n",
    "degree = \"master\""
   ]
  },
  {
   "cell_type": "code",
   "execution_count": 27,
   "metadata": {},
   "outputs": [
    {
     "name": "stdout",
     "output_type": "stream",
     "text": [
      "\n",
      "TUM informatics master introduction\n",
      "\n"
     ]
    }
   ],
   "source": [
    "formatted_general_program_info_search = PromptTemplate.from_template(general_program_info_search_template).format(university_name=university_name, program_name=program_name, degree=degree)\n",
    "print(formatted_general_program_info_search)"
   ]
  },
  {
   "cell_type": "code",
   "execution_count": 28,
   "metadata": {},
   "outputs": [
    {
     "name": "stdout",
     "output_type": "stream",
     "text": [
      "\n",
      "TUM informatics master's application deadline\n",
      "\n"
     ]
    }
   ],
   "source": [
    "formatted_application_deadline_search = PromptTemplate.from_template(application_deadline_search_template).format(university_name=university_name, program_name=program_name, degree=degree)\n",
    "print(formatted_application_deadline_search)"
   ]
  },
  {
   "cell_type": "code",
   "execution_count": 29,
   "metadata": {},
   "outputs": [
    {
     "name": "stdout",
     "output_type": "stream",
     "text": [
      "\n",
      "TUM informatics master, which documents do i need to submit during the online application\n",
      "\n"
     ]
    }
   ],
   "source": [
    "formatted_requried_document_search = PromptTemplate.from_template(requried_document_search_template).format(university_name=university_name, program_name=program_name, degree=degree)\n",
    "print(formatted_requried_document_search)"
   ]
  },
  {
   "cell_type": "code",
   "execution_count": 30,
   "metadata": {},
   "outputs": [
    {
     "name": "stdout",
     "output_type": "stream",
     "text": [
      "\n",
      "TUM informatics master, where can i find the online applicaiton portal\n",
      "\n"
     ]
    }
   ],
   "source": [
    "formatted_application_portal_search = PromptTemplate.from_template(application_portal_search_template).format(university_name=university_name, program_name=program_name, degree=degree)\n",
    "print(formatted_application_portal_search)"
   ]
  },
  {
   "cell_type": "code",
   "execution_count": 31,
   "metadata": {},
   "outputs": [
    {
     "data": {
      "text/plain": [
       "'\\nTUM informatics master, where can i find the online applicaiton portal\\n'"
      ]
     },
     "execution_count": 31,
     "metadata": {},
     "output_type": "execute_result"
    }
   ],
   "source": [
    "formatted_application_portal_search"
   ]
  },
  {
   "cell_type": "markdown",
   "metadata": {},
   "source": [
    "# Visualize the search results"
   ]
  },
  {
   "cell_type": "code",
   "execution_count": 32,
   "metadata": {},
   "outputs": [
    {
     "ename": "NameError",
     "evalue": "name 'duckduckgo_search' is not defined",
     "output_type": "error",
     "traceback": [
      "\u001b[0;31m---------------------------------------------------------------------------\u001b[0m",
      "\u001b[0;31mNameError\u001b[0m                                 Traceback (most recent call last)",
      "Cell \u001b[0;32mIn[32], line 1\u001b[0m\n\u001b[0;32m----> 1\u001b[0m duckduckgo_search\u001b[39m.\u001b[39mrun(formatted_general_program_info_search)\n",
      "\u001b[0;31mNameError\u001b[0m: name 'duckduckgo_search' is not defined"
     ]
    }
   ],
   "source": [
    "duckduckgo_search.run(formatted_general_program_info_search)"
   ]
  },
  {
   "cell_type": "code",
   "execution_count": 16,
   "metadata": {},
   "outputs": [
    {
     "data": {
      "text/plain": [
       "\"The Master's in Informatics is a research-oriented degree that builds on the fundamentals of computer science you have acquired during your undergraduate ...\""
      ]
     },
     "execution_count": 16,
     "metadata": {},
     "output_type": "execute_result"
    }
   ],
   "source": [
    "serp_search.run(formatted_general_program_info_search)"
   ]
  },
  {
   "cell_type": "code",
   "execution_count": 18,
   "metadata": {},
   "outputs": [
    {
     "data": {
      "text/plain": [
       "\"In addition to a solid education in the core areas of informatics, the master's program offers you the opportunity to specialize in at least one of eight areas: ... Minimum requirements to apply for a Master's program at TUM are a recognized undergraduate degree (e.g. a bachelor's) and the successful completion of the aptitude assessment ... Winter semester 2023/24: 01.10.2023 - 31.03.2024 Summer semester 2024: 01.04.2024 - 30.09.2024 Winter semester 2024/25: 01.10.2024 - 31.03.2025 Periods and Deadlines Application for Bachelor's Application for Master's Application for Studienkolleg (preparatory study) Application as Auditor Fundamental Exams (if imposed with the admission) must be completed by the end of the second master semester (independend of possible change in study program [50%-66%-100%] between the first and the second semester of your studies). Otherwise, continuation in the master's program will not be possible. Integrated research and degree programs designed for the future: The TUM School of Computation, Information and Technology (CIT) at the Technical University of Munich (TUM) unites the disciplines of Mathematics, Informatics, and Electrical and Computer Engineering. Welcome to TUM Informatics (Computer Science)! As a student at one of TUM CIT Informatics's international partner universities, you can spend a semester or academic year on exchange in the area of Computer Science and Informatics with us here in Munich.\""
      ]
     },
     "execution_count": 18,
     "metadata": {},
     "output_type": "execute_result"
    }
   ],
   "source": [
    "duckduckgo_search.run(formatted_application_deadline_search)"
   ]
  },
  {
   "cell_type": "code",
   "execution_count": 19,
   "metadata": {},
   "outputs": [
    {
     "data": {
      "text/plain": [
       "'Application Period Winter semester: 01.02. – 31.05. Summer semester: 01.09. – 30.11.'"
      ]
     },
     "execution_count": 19,
     "metadata": {},
     "output_type": "execute_result"
    }
   ],
   "source": [
    "serp_search.run(formatted_application_deadline_search)"
   ]
  },
  {
   "cell_type": "code",
   "execution_count": 20,
   "metadata": {},
   "outputs": [
    {
     "data": {
      "text/plain": [
       "\"We would like to show you a description here but the site won't allow us. Here you will find all the legal foundations for your studies at TUM: from the General Academic and Examination Regulations via the Program-Specific Academic and Examination Regulations to the Regulations on the Awarding of Doctoral Degrees - official versions as well as engrossed versions. Explanations of the Legal Framework Application for Master's Application for Studienkolleg (preparatory study) Application as Auditor Application for exchange students (Incoming, e.g. Erasmus or TUMExchange) Leave of Absence Enrollment Payment of fees for continued enrollment Payment of fees for first-time enrollment Student Body General Meetings and Student General Meetings When is the APS certificate needed for TUM application? Hey guys, I'm applying to TU Munich for MSc in Informatics for Winter 2023/24. I have already gotten my VPD, completed my TUM application and successfully submitted it. I haven't applied for an APS certificate and the TUM application did not ask for one. 1. Submit Online Application 2. Assessment and Application Results (minimum 4 to 8 weeks) 3. Submit Notarised Hardcopy Documents 4. Scholarship Results (from April - June) For any further admission enquiries, please write in to admission@tum-asia.edu.sg.\""
      ]
     },
     "execution_count": 20,
     "metadata": {},
     "output_type": "execute_result"
    }
   ],
   "source": [
    "duckduckgo_search.run(formatted_requried_document_search)"
   ]
  },
  {
   "cell_type": "code",
   "execution_count": 21,
   "metadata": {},
   "outputs": [
    {
     "data": {
      "text/plain": [
       "'Which documents do I need to submit for enrollment?'"
      ]
     },
     "execution_count": 21,
     "metadata": {},
     "output_type": "execute_result"
    }
   ],
   "source": [
    "serp_search.run(formatted_requried_document_search)"
   ]
  },
  {
   "cell_type": "code",
   "execution_count": 22,
   "metadata": {},
   "outputs": [
    {
     "data": {
      "text/plain": [
       "\"Application period for the summer semester: 01.09. - 30.11. During the application period, you must apply through the TUMonline application portal and upload your application documents. Please be aware that we can only process your application if you upload all required documents within the application period. Semester Structure Summer semester 2023: 01.04.2023 - 30.09.2023 Winter semester 2023/24: 01.10.2023 - 31.03.2024 Summer semester 2024: 01.04.2024 - 30.09.2024 Winter semester 2024/25: 01.10.2024 - 31.03.2025 Periods and Deadlines Application for Bachelor's Application for Master's Application for Studienkolleg (preparatory study) Integrated research and degree programs designed for the future: The TUM School of Computation, Information and Technology (CIT) at the Technical University of Munich (TUM) unites the disciplines of Mathematics, Informatics, and Electrical and Computer Engineering. What are part time studies? The Department of Informatics wants to open its master's program Informatics also to those students who - for which reason ever - cannot study full time. Please observe: For students who need a visa it is up to our best knowledge not possible to study part time. The Technical University of Munich (TUM) and Ludwig-Maximilians-Universität (LMU) München are launching a continuing education and research program on reliable artificial intelligence (AI). The new Konrad Zuse School of Excellence in Reliable AI (relAI) will work with M.Sc. and Ph.D. students on technical aspects of AI as well as issues ...\""
      ]
     },
     "execution_count": 22,
     "metadata": {},
     "output_type": "execute_result"
    }
   ],
   "source": [
    "duckduckgo_search.run(formatted_application_portal_search)"
   ]
  },
  {
   "cell_type": "code",
   "execution_count": 23,
   "metadata": {},
   "outputs": [
    {
     "data": {
      "text/plain": [
       "'Where can I find the online application portal? The online application process takes place through our application portal TUMonline.'"
      ]
     },
     "execution_count": 23,
     "metadata": {},
     "output_type": "execute_result"
    }
   ],
   "source": [
    "serp_search.run(formatted_application_portal_search)"
   ]
  },
  {
   "cell_type": "markdown",
   "metadata": {},
   "source": [
    "## Get the url links for the search results"
   ]
  },
  {
   "cell_type": "code",
   "execution_count": 33,
   "metadata": {},
   "outputs": [],
   "source": [
    "import requests\n",
    "from bs4 import BeautifulSoup\n",
    "\n",
    "# THE FOLLOWING IS NOT WORKING\n",
    "def get_duckduckgo_search_links(query, number=3, verbose=False):\n",
    "    base_url = \"https://duckduckgo.com/html\"\n",
    "    \n",
    "    #The User-Agent you're using might have been flagged as a common scraping tool. Try using a different, more recent browser's User-Agent. Ensure it's a legitimate User-Agent string.\n",
    "    #The headers here is the key to unblock the\n",
    "    headers = {\n",
    "        \"User-Agent\": \"Mozilla/5.0 (Macintosh; Intel Mac OS X 10_15_7) AppleWebKit/537.36 (KHTML, like Gecko) Chrome/116.0.0.0 Safari/537.36\",\n",
    "        \"Accept\": \"*/*\",\n",
    "        \"Accept-Language\": \"en-US,en;q=0.9\",\n",
    "        \"Accept-Encoding\": \"gzip, deflate, br\",\n",
    "        \"Connection\": \"keep-alive\",\n",
    "        \"Upgrade-Insecure-Requests\": \"1\",\n",
    "        \"Sec-Fetch-Dest\": 'document',\n",
    "        \"Sec-Ch-Ua-Mobile\": \"?0\",\n",
    "        \"Sec-Ch-Ua-Platform\":\"macOS\",\n",
    "        \"DNT\": \"1\",\n",
    "        \"Referer\": \"https://duckduckgo.com\",\n",
    "    }\n",
    "\n",
    "    params = {'q': query}\n",
    "    response = requests.get(base_url, params=params, headers=headers)\n",
    "\n",
    "    if response.status_code != 200:\n",
    "        print(f\"response status != 200.  Status code: {response.status_code}. Failed to retrieve the webpage.\")\n",
    "        return []\n",
    "\n",
    "    soup = BeautifulSoup(response.text, 'html.parser')\n",
    "    links = [a[\"href\"] for a in soup.select(\".result__url\")]\n",
    "\n",
    "    if verbose:\n",
    "        print(f\"for {query}, i get the followings links {links}\")\n",
    "    \n",
    "    # control the output urlt\n",
    "    if len(links) >= number:\n",
    "        return links[:number]\n",
    "\n",
    "    else:\n",
    "        return links"
   ]
  },
  {
   "cell_type": "code",
   "execution_count": 3,
   "metadata": {},
   "outputs": [],
   "source": [
    "import requests\n",
    "from bs4 import BeautifulSoup\n",
    "\n",
    "\n",
    "def get_google_search_links(query, number=3):\n",
    "\n",
    "    USER_AGENT = (\"Mozilla/5.0 (Windows NT 10.0; Win64; x64) AppleWebKit/537.36 \"\n",
    "              \"(KHTML, like Gecko) Chrome/91.0.4472.124 Safari/537.36\")\n",
    "    HEADERS = {\"User-Agent\": USER_AGENT}\n",
    "\n",
    "\n",
    "    google_url = f\"https://www.google.com/search?q={query}\"\n",
    "    response = requests.get(google_url, headers=HEADERS)\n",
    "\n",
    "    if response.status_code != 200:\n",
    "        raise Exception(f\"Failed to fetch results for query: {query}, status code {response.status_code}\")\n",
    "\n",
    "    soup = BeautifulSoup(response.text, \"html.parser\")\n",
    "    search_results = []\n",
    "\n",
    "    for g in soup.find_all('div', class_='tF2Cxc'):\n",
    "        anchor = g.find('a')\n",
    "        if anchor:\n",
    "            link = anchor['href']\n",
    "            search_results.append(link)\n",
    "\n",
    "    return search_results[:number]\n"
   ]
  },
  {
   "cell_type": "markdown",
   "metadata": {},
   "source": [
    "## Playwright"
   ]
  },
  {
   "cell_type": "markdown",
   "metadata": {},
   "source": [
    "## Sync"
   ]
  },
  {
   "cell_type": "code",
   "execution_count": 20,
   "metadata": {},
   "outputs": [],
   "source": [
    "from playwright.sync_api import sync_playwright"
   ]
  },
  {
   "cell_type": "code",
   "execution_count": 21,
   "metadata": {},
   "outputs": [],
   "source": [
    "# https://github.com/microsoft/playwright-python/issues/480#issuecomment-772973012\n",
    "# Note that jupyter notebook use asyncio event loop, so in Jupyter, async pi should be use\n",
    "def sync_get_cookie_playwright():\n",
    "    with sync_playwright() as p:\n",
    "\n",
    "        # You can use other browsers like 'firefox' or 'webkit' as well.\n",
    "        browser = p.chromium.launch(headless=False)\n",
    "        context = browser.new_context()\n",
    "\n",
    "        # Open new page\n",
    "        page = context.new_page()\n",
    "        \n",
    "        # Navigate to DuckDuckGo\n",
    "        page.goto(\"https://duckduckgo.com/\")\n",
    "\n",
    "        # Get the cookie back\n",
    "        cookie_for_requests = context.cookies()[3]['value']\n",
    "        print(context.cookies)\n",
    "\n",
    "        # Close the browser\n",
    "        browser.close()\n",
    "\n",
    "    return cookie_for_requests"
   ]
  },
  {
   "cell_type": "code",
   "execution_count": 22,
   "metadata": {},
   "outputs": [
    {
     "ename": "Error",
     "evalue": "It looks like you are using Playwright Sync API inside the asyncio loop.\nPlease use the Async API instead.",
     "output_type": "error",
     "traceback": [
      "\u001b[0;31m---------------------------------------------------------------------------\u001b[0m",
      "\u001b[0;31mError\u001b[0m                                     Traceback (most recent call last)",
      "Cell \u001b[0;32mIn[22], line 1\u001b[0m\n\u001b[0;32m----> 1\u001b[0m get_cookie_playwright()\n",
      "Cell \u001b[0;32mIn[21], line 2\u001b[0m, in \u001b[0;36mget_cookie_playwright\u001b[0;34m()\u001b[0m\n\u001b[1;32m      1\u001b[0m \u001b[39mdef\u001b[39;00m \u001b[39mget_cookie_playwright\u001b[39m():\n\u001b[0;32m----> 2\u001b[0m     \u001b[39mwith\u001b[39;00m sync_playwright() \u001b[39mas\u001b[39;00m p:\n\u001b[1;32m      3\u001b[0m \n\u001b[1;32m      4\u001b[0m         \u001b[39m# You can use other browsers like 'firefox' or 'webkit' as well.\u001b[39;00m\n\u001b[1;32m      5\u001b[0m         browser \u001b[39m=\u001b[39m p\u001b[39m.\u001b[39mchromium\u001b[39m.\u001b[39mlaunch(headless\u001b[39m=\u001b[39m\u001b[39mFalse\u001b[39;00m)\n\u001b[1;32m      6\u001b[0m         context \u001b[39m=\u001b[39m browser\u001b[39m.\u001b[39mnew_context()\n",
      "File \u001b[0;32m~/anaconda3/envs/langchain/lib/python3.10/site-packages/playwright/sync_api/_context_manager.py:47\u001b[0m, in \u001b[0;36mPlaywrightContextManager.__enter__\u001b[0;34m(self)\u001b[0m\n\u001b[1;32m     45\u001b[0m             \u001b[39mself\u001b[39m\u001b[39m.\u001b[39m_own_loop \u001b[39m=\u001b[39m \u001b[39mTrue\u001b[39;00m\n\u001b[1;32m     46\u001b[0m         \u001b[39mif\u001b[39;00m \u001b[39mself\u001b[39m\u001b[39m.\u001b[39m_loop\u001b[39m.\u001b[39mis_running():\n\u001b[0;32m---> 47\u001b[0m             \u001b[39mraise\u001b[39;00m Error(\n\u001b[1;32m     48\u001b[0m \u001b[39m                \u001b[39m\u001b[39m\"\"\"It looks like you are using Playwright Sync API inside the asyncio loop.\u001b[39;00m\n\u001b[1;32m     49\u001b[0m \u001b[39mPlease use the Async API instead.\"\"\"\u001b[39;00m\n\u001b[1;32m     50\u001b[0m             )\n\u001b[1;32m     52\u001b[0m         \u001b[39m# Create a new fiber for the protocol dispatcher. It will be pumping events\u001b[39;00m\n\u001b[1;32m     53\u001b[0m         \u001b[39m# until the end of times. We will pass control to that fiber every time we\u001b[39;00m\n\u001b[1;32m     54\u001b[0m         \u001b[39m# block while waiting for a response.\u001b[39;00m\n\u001b[1;32m     55\u001b[0m         \u001b[39mdef\u001b[39;00m \u001b[39mgreenlet_main\u001b[39m() \u001b[39m-\u001b[39m\u001b[39m>\u001b[39m \u001b[39mNone\u001b[39;00m:\n",
      "\u001b[0;31mError\u001b[0m: It looks like you are using Playwright Sync API inside the asyncio loop.\nPlease use the Async API instead."
     ]
    }
   ],
   "source": [
    "get_cookie_playwright()"
   ]
  },
  {
   "cell_type": "markdown",
   "metadata": {},
   "source": [
    "## Async - Jupyter specific"
   ]
  },
  {
   "cell_type": "code",
   "execution_count": 1,
   "metadata": {},
   "outputs": [],
   "source": [
    "import asyncio\n",
    "from playwright.async_api import async_playwright\n",
    "\n",
    "async def search_duckduckgo(query):\n",
    "    async with async_playwright() as p:\n",
    "        browser = await p.chromium.launch(headless=False)\n",
    "        context = await browser.new_context()\n",
    "\n",
    "        # Open new page\n",
    "        page = await context.new_page()\n",
    "\n",
    "        # Navigate to DuckDuckGo\n",
    "        await page.goto(\"https://duckduckgo.com/\")\n",
    "\n",
    "        # Enter the query into the search box\n",
    "        await page.fill(\"input[name='q']\", query)\n",
    "\n",
    "        # Click on the search button\n",
    "        await page.click(\"input[type='submit']\")\n",
    "\n",
    "        # Wait for results page to load and print current URL\n",
    "        await page.wait_for_selector(\".results--main .result\")\n",
    "        print(page.url)\n",
    "\n",
    "        # You might want to extract search results or perform other actions at this point\n",
    "\n",
    "        # Close the browser\n",
    "        await browser.close()\n"
   ]
  },
  {
   "cell_type": "code",
   "execution_count": 34,
   "metadata": {},
   "outputs": [],
   "source": [
    "loop = asyncio.get_event_loop()\n",
    "\n",
    "if loop.is_running():\n",
    "    result = await search_duckduckgo(\"Playwright Python example\")\n",
    "else:\n",
    "    result = loop.run_until_complete(search_duckduckgo(\"Playwright Python example\"))\n"
   ]
  },
  {
   "cell_type": "code",
   "execution_count": 9,
   "metadata": {},
   "outputs": [],
   "source": [
    "async def async_get_cookie_playwright():\n",
    "    async with async_playwright() as p:\n",
    "\n",
    "        # You can use other browsers like 'firefox' or 'webkit' as well.\n",
    "        browser = await p.chromium.launch(headless=False)\n",
    "        context = await browser.new_context()\n",
    "\n",
    "        # Open new page\n",
    "        page = await context.new_page()\n",
    "        \n",
    "        # Navigate to DuckDuckGo\n",
    "        await page.goto(\"https://duckduckgo.com/\")\n",
    "       \n",
    "        # Get the cookie back\n",
    "        cookies = await context.cookies()\n",
    "        print(f\"cookies {cookies}\")\n",
    "        cookie_for_requests = cookies[3]['value']\n",
    "        print(cookie_for_requests)\n",
    "\n",
    "        # Close the browser\n",
    "        await browser.close()\n",
    "\n",
    "    return cookie_for_requests"
   ]
  },
  {
   "cell_type": "code",
   "execution_count": 10,
   "metadata": {},
   "outputs": [
    {
     "name": "stdout",
     "output_type": "stream",
     "text": [
      "cookies []\n"
     ]
    },
    {
     "ename": "IndexError",
     "evalue": "list index out of range",
     "output_type": "error",
     "traceback": [
      "\u001b[0;31m---------------------------------------------------------------------------\u001b[0m",
      "\u001b[0;31mIndexError\u001b[0m                                Traceback (most recent call last)",
      "Cell \u001b[0;32mIn[10], line 4\u001b[0m\n\u001b[1;32m      1\u001b[0m loop \u001b[39m=\u001b[39m asyncio\u001b[39m.\u001b[39mget_event_loop()\n\u001b[1;32m      3\u001b[0m \u001b[39mif\u001b[39;00m loop\u001b[39m.\u001b[39mis_running():\n\u001b[0;32m----> 4\u001b[0m     result \u001b[39m=\u001b[39m \u001b[39mawait\u001b[39;00m async_get_cookie_playwright()\n\u001b[1;32m      5\u001b[0m \u001b[39melse\u001b[39;00m:\n\u001b[1;32m      6\u001b[0m     result \u001b[39m=\u001b[39m loop\u001b[39m.\u001b[39mrun_until_complete(async_get_cookie_playwright())\n",
      "Cell \u001b[0;32mIn[9], line 17\u001b[0m, in \u001b[0;36masync_get_cookie_playwright\u001b[0;34m()\u001b[0m\n\u001b[1;32m     15\u001b[0m cookies \u001b[39m=\u001b[39m \u001b[39mawait\u001b[39;00m context\u001b[39m.\u001b[39mcookies()\n\u001b[1;32m     16\u001b[0m \u001b[39mprint\u001b[39m(\u001b[39mf\u001b[39m\u001b[39m\"\u001b[39m\u001b[39mcookies \u001b[39m\u001b[39m{\u001b[39;00mcookies\u001b[39m}\u001b[39;00m\u001b[39m\"\u001b[39m)\n\u001b[0;32m---> 17\u001b[0m cookie_for_requests \u001b[39m=\u001b[39m cookies[\u001b[39m3\u001b[39;49m][\u001b[39m'\u001b[39m\u001b[39mvalue\u001b[39m\u001b[39m'\u001b[39m]\n\u001b[1;32m     18\u001b[0m \u001b[39mprint\u001b[39m(cookie_for_requests)\n\u001b[1;32m     20\u001b[0m \u001b[39m# Close the browser\u001b[39;00m\n",
      "\u001b[0;31mIndexError\u001b[0m: list index out of range"
     ]
    }
   ],
   "source": [
    "loop = asyncio.get_event_loop()\n",
    "\n",
    "if loop.is_running():\n",
    "    result = await async_get_cookie_playwright()\n",
    "else:\n",
    "    result = loop.run_until_complete(async_get_cookie_playwright())"
   ]
  },
  {
   "cell_type": "code",
   "execution_count": 28,
   "metadata": {},
   "outputs": [],
   "source": [
    "cookie_for_requests = async_get_cookie_playwright()"
   ]
  },
  {
   "cell_type": "code",
   "execution_count": 30,
   "metadata": {},
   "outputs": [
    {
     "name": "stdout",
     "output_type": "stream",
     "text": [
      "<coroutine object async_get_cookie_playwright at 0x7f87801b8c80>\n"
     ]
    }
   ],
   "source": [
    "print(cookie_for_requests)"
   ]
  },
  {
   "cell_type": "markdown",
   "metadata": {},
   "source": [
    "# Wrapper funciton"
   ]
  },
  {
   "cell_type": "code",
   "execution_count": 4,
   "metadata": {},
   "outputs": [],
   "source": [
    "import sys\n",
    "sys.path.append(\"..\") # Adds higher directory to python module path"
   ]
  },
  {
   "cell_type": "code",
   "execution_count": 5,
   "metadata": {},
   "outputs": [],
   "source": [
    "# get the template from the \"my_prompts\" folder\n",
    "import requests\n",
    "from bs4 import BeautifulSoup\n",
    "from search.SearchTemplateManager import SearchTemplateManager"
   ]
  },
  {
   "cell_type": "code",
   "execution_count": 8,
   "metadata": {},
   "outputs": [],
   "source": [
    "def get_program_links(university_name, program_name, degree, verbose=False):\n",
    "    '''\n",
    "    This wrapper funciton takes university, program, and degree, and output a Set of Url links to prepare for Web Scrapper\n",
    "\n",
    "    This wrapper use the following functions under the hood \n",
    "    - SearchTemplateManager: to manage the search templates\n",
    "    - get_duckduckgo_search_links: to get the all the search links from duckduck go\n",
    "    '''\n",
    "    \n",
    "    # 0. Prepare url set\n",
    "    url_set = set() #empty set\n",
    "\n",
    "    # 1. format the search \n",
    "    formatted_searchs = SearchTemplateManager.format_all_templates(university_name=university_name, program_name=program_name, degree=degree)\n",
    "\n",
    "    # 2. Get the link\n",
    "    for search in formatted_searchs:\n",
    "        links = get_google_search_links(search, number=3) # only get 3 search result, since duckduck go search is not that good\n",
    "        if verbose:\n",
    "            print(f\"search: {search}\\n\")\n",
    "            print(f\"links: {links}\\n\")\n",
    "        url_set.update(links) # put them into a set container\n",
    "\n",
    "    if verbose:\n",
    "        print(f\"Get {len(url_set)} links\")\n",
    "\n",
    "    return url_set"
   ]
  },
  {
   "cell_type": "code",
   "execution_count": 9,
   "metadata": {},
   "outputs": [
    {
     "name": "stdout",
     "output_type": "stream",
     "text": [
      "search: TUM informatics master introduction\n",
      "\n",
      "links: ['https://www.cit.tum.de/en/cit/studies/degree-programs/master-informatics/', 'https://www.cit.tum.de/en/cit/studies/students/start-of-studies/orientation-program-informatics-master/', 'https://www.tum.de/en/studies/degree-programs/detail/informatics-master-of-science-msc']\n",
      "\n",
      "search: TUM informatics master's application deadline\n",
      "\n",
      "links: ['https://www.tum.de/en/studies/degree-programs/detail/informatics-master-of-science-msc#:~:text=Application%20Period,%E2%80%93%2030.11.', 'https://www.cit.tum.de/en/cit/studies/degree-programs/master-informatics/', 'https://www.tum.de/en/studies/application/application-info-portal/dates-periods-and-deadlines']\n",
      "\n",
      "search: TUM informatics master, which documents do i need to submit during the online application\n",
      "\n",
      "links: ['https://www.cit.tum.de/en/cit/studies/degree-programs/master-informatics/', 'https://www.tum.de/en/studies/degree-programs/detail/informatics-master-of-science-msc', 'https://www.tum.de/en/studies/application/master/application-master']\n",
      "\n",
      "search: TUM informatics master, where can i find the online application portal\n",
      "\n",
      "links: ['https://www.tum.de/en/studies/degree-programs/detail/informatics-master-of-science-msc', 'https://www.cit.tum.de/en/cit/studies/degree-programs/master-informatics/', 'https://www.tum.de/en/studies/application/master/application-master']\n",
      "\n",
      "Get 3 links\n"
     ]
    },
    {
     "data": {
      "text/plain": [
       "{'https://www.cit.tum.de/en/cit/studies/degree-programs/master-informatics/',\n",
       " 'https://www.tum.de/en/studies/application/master/application-master',\n",
       " 'https://www.tum.de/en/studies/degree-programs/detail/informatics-master-of-science-msc'}"
      ]
     },
     "execution_count": 9,
     "metadata": {},
     "output_type": "execute_result"
    }
   ],
   "source": [
    "get_program_links(university_name, program_name, degree, True)"
   ]
  }
 ],
 "metadata": {
  "kernelspec": {
   "display_name": "langchain",
   "language": "python",
   "name": "langchain"
  },
  "language_info": {
   "codemirror_mode": {
    "name": "ipython",
    "version": 3
   },
   "file_extension": ".py",
   "mimetype": "text/x-python",
   "name": "python",
   "nbconvert_exporter": "python",
   "pygments_lexer": "ipython3",
   "version": "3.10.12"
  },
  "orig_nbformat": 4
 },
 "nbformat": 4,
 "nbformat_minor": 2
}
